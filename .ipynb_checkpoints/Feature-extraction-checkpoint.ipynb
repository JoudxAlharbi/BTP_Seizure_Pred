{
 "cells": [
  {
   "cell_type": "code",
   "execution_count": null,
   "metadata": {},
   "outputs": [],
   "source": [
    "import numpy as np\n",
    "import mne\n",
    "import pandas as pd\n",
    "import sys\n",
    "\n",
    "import csv\n",
    "from scipy.stats import skew, kurtosis\n",
    "import pyeeg as p\n",
    "from numpy import nan\n",
    "import math"
   ]
  },
  {
   "cell_type": "code",
   "execution_count": null,
   "metadata": {},
   "outputs": [],
   "source": [
    "def mean_variance(df):\n",
    "    variance_vals = np.var(df)\n",
    "    return np.mean(variance_vals)"
   ]
  },
  {
   "cell_type": "code",
   "execution_count": null,
   "metadata": {},
   "outputs": [],
   "source": [
    "def mean_kurtosis(df):\n",
    "    kurtosis_vals = kurtosis(df)\n",
    "    return np.mean(kurtosis_vals)"
   ]
  },
  {
   "cell_type": "code",
   "execution_count": null,
   "metadata": {},
   "outputs": [],
   "source": [
    "def mean_skewness(df):\n",
    "    skew_vals = skew(df)\n",
    "    return np.mean(skew_vals)"
   ]
  },
  {
   "cell_type": "code",
   "execution_count": null,
   "metadata": {},
   "outputs": [],
   "source": [
    "def mean_pfd(df):\n",
    "    pfd_vals = []\n",
    "    for col in df.columns:\n",
    "        col = df[col].to_numpy()\n",
    "        pfd_val = p.pfd(col)\n",
    "        pfd_vals.append(pfd_val)\n",
    "    return np.mean(pfd_vals)"
   ]
  },
  {
   "cell_type": "code",
   "execution_count": null,
   "metadata": {},
   "outputs": [],
   "source": [
    "def mean_hjorth_mob_comp(df):\n",
    "    mob_vals = []\n",
    "    comp_vals = []\n",
    "    for col in df.columns:\n",
    "        col = df[col].to_numpy()\n",
    "        mob_col, comp_col = p.hjorth(col)\n",
    "        mob_vals.append(mob_col)\n",
    "        comp_vals.append(comp_col)\n",
    "    return np.mean(mob_vals), np.mean(comp_vals)"
   ]
  },
  {
   "cell_type": "code",
   "execution_count": null,
   "metadata": {},
   "outputs": [],
   "source": [
    "def all_psd(data):\n",
    "    fs = 256                                \n",
    "    N = data.shape[1] # total num of points \n",
    "\n",
    "    # Get only in postive frequencies\n",
    "    fft_vals = np.absolute(np.fft.rfft(data))\n",
    "\n",
    "    n_rows = fft_vals.shape[0]\n",
    "    n_cols = fft_vals.shape[1]\n",
    "    psd_vals = np.zeros(shape=(n_rows, n_cols))\n",
    "\n",
    "    for i in range(n_rows):\n",
    "        for j in range(n_cols):\n",
    "            psd_vals[i][j] = (N/fs) * fft_vals[i][j] * fft_vals[i][j];\n",
    "\n",
    "\n",
    "    # Get frequencies for amplitudes in Hz\n",
    "    fft_freq = np.fft.rfftfreq(data.shape[1], 1.0/fs)\n",
    "\n",
    "    # Define EEG bands\n",
    "    eeg_bands = {'Delta': (0, 4),\n",
    "                 'Theta': (4, 8),\n",
    "                 'Alpha': (8, 12),\n",
    "                 'Beta': (12, 30),\n",
    "                 'Gamma': (30, 45)}\n",
    "\n",
    "    # Take the mean of the fft amplitude for each EEG band\n",
    "    eeg_band_fft = dict()\n",
    "    psd_vals_list = []\n",
    "    for band in eeg_bands:  \n",
    "        freq_ix = np.where((fft_freq >= eeg_bands[band][0]) & \n",
    "                           (fft_freq <= eeg_bands[band][1]))[0]\n",
    "        eeg_band_fft[band] = np.mean(psd_vals[:,freq_ix])\n",
    "        psd_vals_list.append(eeg_band_fft[band] * 1000000)\n",
    "    return psd_vals_list"
   ]
  },
  {
   "cell_type": "code",
   "execution_count": null,
   "metadata": {},
   "outputs": [],
   "source": [
    "def sum_psd(data):\n",
    "    psd_vals = all_psd(data)\n",
    "    return np.sum(psd_vals)"
   ]
  },
  {
   "cell_type": "code",
   "execution_count": null,
   "metadata": {},
   "outputs": [],
   "source": [
    "def mean_spectral_entropy(data):\n",
    "    psd_vals = all_psd(data)\n",
    "    power_ratio = []\n",
    "    sum_psd_vals = sum_psd(data)\n",
    "    for val in psd_vals:\n",
    "        power_ratio.append(val/sum_psd_vals)\n",
    "    bands = [0,4,8,12,30,45]\n",
    "    Fs = 256\n",
    "    spec_entropy = p.spectral_entropy(data, bands, Fs, power_ratio)\n",
    "    return spec_entropy"
   ]
  },
  {
   "cell_type": "code",
   "execution_count": null,
   "metadata": {},
   "outputs": [],
   "source": [
    "def add_row(df_input, psd_ip, start, end, index):\n",
    "    row_to_add = []\n",
    "    d = df_input[index:index + duration]\n",
    "    psd_ip = psd_ip[:, start:end]\n",
    "    psd_ip = psd_ip[:][0]\n",
    "    \n",
    "    mean_var = mean_variance(d)\n",
    "    mean_k = mean_kurtosis(d)\n",
    "    mean_skew = mean_skewness(d)\n",
    "    pfd = mean_pfd(d)\n",
    "    h_mob, h_comp = mean_hjorth_mob_comp(d)\n",
    "    mean_spec = mean_spectral_entropy(psd_ip)\n",
    "    \n",
    "    row_to_add.append(mean_var)\n",
    "    row_to_add.append(mean_k)\n",
    "    row_to_add.append(mean_skew)\n",
    "    row_to_add.append(pfd)\n",
    "    row_to_add.append(h_mob)\n",
    "    row_to_add.append(h_comp)\n",
    "    row_to_add.append(mean_spec)\n",
    "    #Label: 1 = seizure, 0 = non-seizure. Change before running.\n",
    "    row_to_add.append(1)\n",
    "    \n",
    "    \n",
    "    return row_to_add"
   ]
  },
  {
   "cell_type": "code",
   "execution_count": null,
   "metadata": {},
   "outputs": [],
   "source": [
    "data = mne.io.read_raw_edf('chb01_03.edf')\n",
    "                                #exclude =  Channel order : 'FP1-F7','F7-T7','T7-P7','P7-O1','FP1-F3','F3-C3','C3-P3','P3-O1','FP2-F4','F4-C4','C4-P4','P4-O2','FP2-F8','F8-T8','T8-P8','P8-O2','FZ-CZ','CZ-PZ','P7-T7','T7-FT9','FT9-FT10','FT10-T8','T8-P8'\n",
    "header = ','.join(data.ch_names)\n",
    "df = pd.DataFrame(data[:][0])\n",
    "df = df.transpose()\n",
    "# df = df.iloc[1467*256:1477*256]\n",
    "# df3"
   ]
  },
  {
   "cell_type": "code",
   "execution_count": null,
   "metadata": {},
   "outputs": [],
   "source": [
    "#for 11 , 14 , 20\n",
    "\n",
    "df.drop([4,9,12,17,22,27],axis=1,inplace=True)\n",
    "df.shape"
   ]
  },
  {
   "cell_type": "code",
   "execution_count": null,
   "metadata": {},
   "outputs": [],
   "source": [
    "#for 1 and 8\n",
    "\n",
    "df.drop([22],axis=1,inplace=True)\n",
    "df.shape"
   ]
  },
  {
   "cell_type": "code",
   "execution_count": null,
   "metadata": {
    "scrolled": true
   },
   "outputs": [],
   "source": [
    "start = temp = 1457*256 \n",
    "duration = 10*256\n",
    "end = 1477*256\n",
    "\n",
    "df1 = df.iloc[start:end, :]\n",
    "df1 = pd.DataFrame(df1)\n",
    "df1.shape"
   ]
  },
  {
   "cell_type": "code",
   "execution_count": null,
   "metadata": {},
   "outputs": [],
   "source": [
    "#processes one seizure in 10s windows\n",
    "#adds rows with features extracted from these windows\n",
    "# print(df1)\n",
    "index = 0\n",
    "\n",
    "res = pd.DataFrame()\n",
    "\n",
    "#first iteration run in 'w' mode, all subsequent iteration run in 'a' mode\n",
    "with open('test.csv', 'w') as file:\n",
    "    writer = csv.writer(file)\n",
    "    while temp < end:    \n",
    "        row = add_row(df1, data, temp, temp + duration, index)\n",
    "        res=res.append(pd.Series(row),ignore_index=True)\n",
    "        writer.writerow(row)\n",
    "        temp += duration\n",
    "        index += duration\n",
    "\n",
    "#res.columns = ['Variance', 'Kurtosis', 'Skewness', 'Petrosian Fractal Dimension', 'Hjorth Mobility', 'Hjorth Complexity', 'Spectral Entropy', 'Label']\n",
    "res"
   ]
  },
  {
   "cell_type": "code",
   "execution_count": null,
   "metadata": {},
   "outputs": [],
   "source": []
  }
 ],
 "metadata": {
  "kernelspec": {
   "display_name": "Python 3",
   "language": "python",
   "name": "python3"
  },
  "language_info": {
   "codemirror_mode": {
    "name": "ipython",
    "version": 3
   },
   "file_extension": ".py",
   "mimetype": "text/x-python",
   "name": "python",
   "nbconvert_exporter": "python",
   "pygments_lexer": "ipython3",
   "version": "3.7.3"
  }
 },
 "nbformat": 4,
 "nbformat_minor": 4
}
