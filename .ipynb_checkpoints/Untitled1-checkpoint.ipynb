{
 "cells": [
  {
   "cell_type": "code",
   "execution_count": 1,
   "metadata": {},
   "outputs": [],
   "source": [
    "import numpy as np\n",
    "import mne\n",
    "import pandas as pd\n",
    "import sys\n",
    "\n",
    "import csv\n",
    "from scipy.stats import skew, kurtosis\n",
    "import pyeeg as p\n",
    "from numpy import nan\n",
    "import math\n"
   ]
  },
  {
   "cell_type": "code",
   "execution_count": null,
   "metadata": {},
   "outputs": [],
   "source": []
  },
  {
   "cell_type": "code",
   "execution_count": 2,
   "metadata": {},
   "outputs": [],
   "source": [
    "def all_psd(data):\n",
    "    fs = 256                                \n",
    "    N = data.shape[1] # total num of points \n",
    "\n",
    "    # Get only in postive frequencies\n",
    "    fft_vals = np.absolute(np.fft.rfft(data))\n",
    "\n",
    "    n_rows = fft_vals.shape[0]\n",
    "    n_cols = fft_vals.shape[1]\n",
    "    psd_vals = np.zeros(shape=(n_rows, n_cols))\n",
    "\n",
    "    for i in range(n_rows):\n",
    "        for j in range(n_cols):\n",
    "            psd_vals[i][j] = (N/fs) * fft_vals[i][j] * fft_vals[i][j];\n",
    "\n",
    "\n",
    "    # Get frequencies for amplitudes in Hz\n",
    "    fft_freq = np.fft.rfftfreq(data.shape[1], 1.0/fs)\n",
    "\n",
    "    # Define EEG bands\n",
    "    eeg_bands = {'Delta': (0, 4),\n",
    "                 'Theta': (4, 8),\n",
    "                 'Alpha': (8, 12),\n",
    "                 'Beta': (12, 30),\n",
    "                 'Gamma': (30, 45)}\n",
    "\n",
    "    # Take the mean of the fft amplitude for each EEG band\n",
    "    eeg_band_fft = dict()\n",
    "    psd_vals_list = []\n",
    "    for band in eeg_bands:  \n",
    "        freq_ix = np.where((fft_freq >= eeg_bands[band][0]) & \n",
    "                           (fft_freq <= eeg_bands[band][1]))[0]\n",
    "        eeg_band_fft[band] = np.mean(psd_vals[:,freq_ix])\n",
    "        psd_vals_list.append(eeg_band_fft[band] * 1000000)\n",
    "    return psd_vals_list"
   ]
  },
  {
   "cell_type": "code",
   "execution_count": 3,
   "metadata": {},
   "outputs": [
    {
     "name": "stdout",
     "output_type": "stream",
     "text": [
      "Extracting EDF parameters from F:\\PY\\Pro\\pro\\BTP_Seizure_Pred\\chb01_03.edf...\n",
      "EDF file detected\n",
      "Setting channel info structure...\n",
      "Creating raw.info structure...\n",
      "Reading 0 ... 921599  =      0.000 ...  3599.996 secs...\n"
     ]
    },
    {
     "name": "stderr",
     "output_type": "stream",
     "text": [
      "<ipython-input-3-cb28b99d03e4>:1: RuntimeWarning: Channel names are not unique, found duplicates for: {'T8-P8'}. Applying running numbers for duplicates.\n",
      "  data = mne.io.read_raw_edf('chb01_03.edf', preload=True)\n"
     ]
    }
   ],
   "source": [
    "data = mne.io.read_raw_edf('chb01_03.edf', preload=True)\n",
    "header = ','.join(data.ch_names)\n",
    "df = data.to_data_frame()"
   ]
  },
  {
   "cell_type": "code",
   "execution_count": 4,
   "metadata": {},
   "outputs": [],
   "source": [
    "def add_row(df, data, start, end):\n",
    "    row_to_add = []\n",
    "    \n",
    "    d = df.loc[(df['time'] >= start) & (df['time'] < end)]\n",
    "    data = data[:,256*start:256*end]\n",
    "    data = data[:][0]\n",
    "    \n",
    "    \n",
    "    p = all_psd(data)\n",
    "    print(data)\n",
    "    row_to_add\n",
    "    return row_to_add"
   ]
  },
  {
   "cell_type": "code",
   "execution_count": 6,
   "metadata": {},
   "outputs": [
    {
     "name": "stdout",
     "output_type": "stream",
     "text": [
      "[[ 5.72405372e-05  5.33333333e-05  4.59096459e-05 ...  1.36752137e-06\n",
      "   4.49328449e-06  1.38705739e-05]\n",
      " [ 4.59096459e-05  5.09890110e-05  5.91941392e-05 ... -5.52869353e-05\n",
      "  -4.23931624e-05 -3.37973138e-05]\n",
      " [ 5.56776557e-05  5.64590965e-05  5.48962149e-05 ... -5.13797314e-05\n",
      "  -5.02075702e-05 -5.48962149e-05]\n",
      " ...\n",
      " [ 2.48107448e-05  3.69230769e-05  5.48962149e-05 ... -7.36507937e-05\n",
      "  -1.05299145e-04 -1.45543346e-04]\n",
      " [ 6.44688645e-06  9.18192918e-06  1.26984127e-05 ... -9.90476190e-05\n",
      "  -8.77167277e-05 -6.34920635e-05]\n",
      " [ 3.26251526e-05  2.12942613e-05  1.07448107e-05 ... -1.08424908e-04\n",
      "  -8.02930403e-05 -7.71672772e-05]]\n"
     ]
    },
    {
     "data": {
      "text/html": [
       "<div>\n",
       "<style scoped>\n",
       "    .dataframe tbody tr th:only-of-type {\n",
       "        vertical-align: middle;\n",
       "    }\n",
       "\n",
       "    .dataframe tbody tr th {\n",
       "        vertical-align: top;\n",
       "    }\n",
       "\n",
       "    .dataframe thead th {\n",
       "        text-align: right;\n",
       "    }\n",
       "</style>\n",
       "<table border=\"1\" class=\"dataframe\">\n",
       "  <thead>\n",
       "    <tr style=\"text-align: right;\">\n",
       "      <th></th>\n",
       "    </tr>\n",
       "  </thead>\n",
       "  <tbody>\n",
       "    <tr>\n",
       "      <th>0</th>\n",
       "    </tr>\n",
       "  </tbody>\n",
       "</table>\n",
       "</div>"
      ],
      "text/plain": [
       "Empty DataFrame\n",
       "Columns: []\n",
       "Index: [0]"
      ]
     },
     "execution_count": 6,
     "metadata": {},
     "output_type": "execute_result"
    }
   ],
   "source": [
    "#processes one seizure in 10s windows\n",
    "#adds rows with features extracted from these windows\n",
    "start = temp = 2996 \n",
    "duration = 10\n",
    "end = 3006\n",
    "\n",
    "df = df.loc[(df['time'] >= start) & (df['time'] < end)]\n",
    "\n",
    "res = pd.DataFrame()\n",
    "#with open('test.csv', 'a', newline = '') as file:\n",
    "    #writer = csv.writer(file)\n",
    "while temp < end:\n",
    "    row = add_row(df, data, temp, temp + duration)\n",
    "    res=res.append(pd.Series(row),ignore_index=True)\n",
    "        #writer.writerow(row)\n",
    "    temp += duration\n",
    "\n",
    "#res.columns = ['Variance', 'Kurtosis', 'Skewness', 'Petrosian Fractal Dimension', 'Hjorth Mobility', 'Hjorth Complexity', 'Spectral Entropy', 'Label']\n",
    "res"
   ]
  },
  {
   "cell_type": "code",
   "execution_count": 5,
   "metadata": {},
   "outputs": [],
   "source": []
  },
  {
   "cell_type": "code",
   "execution_count": null,
   "metadata": {},
   "outputs": [],
   "source": []
  }
 ],
 "metadata": {
  "kernelspec": {
   "display_name": "Python 3",
   "language": "python",
   "name": "python3"
  },
  "language_info": {
   "codemirror_mode": {
    "name": "ipython",
    "version": 3
   },
   "file_extension": ".py",
   "mimetype": "text/x-python",
   "name": "python",
   "nbconvert_exporter": "python",
   "pygments_lexer": "ipython3",
   "version": "3.7.3"
  }
 },
 "nbformat": 4,
 "nbformat_minor": 4
}
