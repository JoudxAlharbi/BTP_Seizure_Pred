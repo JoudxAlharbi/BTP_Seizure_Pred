{
 "cells": [
  {
   "cell_type": "code",
   "execution_count": 33,
   "metadata": {},
   "outputs": [],
   "source": [
    "import numpy as np\n",
    "import mne\n",
    "import pandas as pd\n",
    "import sys\n",
    "\n",
    "import csv\n",
    "from scipy.stats import skew, kurtosis\n",
    "import pyeeg as p\n",
    "from numpy import nan\n",
    "import math"
   ]
  },
  {
   "cell_type": "code",
   "execution_count": 34,
   "metadata": {},
   "outputs": [],
   "source": [
    "def mean_variance(df):\n",
    "    variance_vals = np.var(df)\n",
    "    return np.mean(variance_vals)"
   ]
  },
  {
   "cell_type": "code",
   "execution_count": 35,
   "metadata": {},
   "outputs": [],
   "source": [
    "def mean_kurtosis(df):\n",
    "    kurtosis_vals = kurtosis(df)\n",
    "    return np.mean(kurtosis_vals)"
   ]
  },
  {
   "cell_type": "code",
   "execution_count": 36,
   "metadata": {},
   "outputs": [],
   "source": [
    "def mean_skewness(df):\n",
    "    skew_vals = skew(df)\n",
    "    return np.mean(skew_vals)"
   ]
  },
  {
   "cell_type": "code",
   "execution_count": 37,
   "metadata": {},
   "outputs": [],
   "source": [
    "def mean_pfd(df):\n",
    "    pfd_vals = []\n",
    "    for col in df.columns:\n",
    "        col = df[col].to_numpy()\n",
    "        pfd_val = p.pfd(col)\n",
    "        pfd_vals.append(pfd_val)\n",
    "    return np.mean(pfd_vals)"
   ]
  },
  {
   "cell_type": "code",
   "execution_count": 38,
   "metadata": {},
   "outputs": [],
   "source": [
    "def mean_hjorth_mob_comp(df):\n",
    "    mob_vals = []\n",
    "    comp_vals = []\n",
    "    for col in df.columns:\n",
    "        col = df[col].to_numpy()\n",
    "        mob_col, comp_col = p.hjorth(col)\n",
    "        mob_vals.append(mob_col)\n",
    "        comp_vals.append(comp_col)\n",
    "    return np.mean(mob_vals), np.mean(comp_vals)"
   ]
  },
  {
   "cell_type": "code",
   "execution_count": 39,
   "metadata": {},
   "outputs": [],
   "source": [
    "def all_psd(data):\n",
    "    fs = 256                                \n",
    "    N = data.shape[1] # total num of points \n",
    "\n",
    "    # Get only in postive frequencies\n",
    "    fft_vals = np.absolute(np.fft.rfft(data))\n",
    "\n",
    "    n_rows = fft_vals.shape[0]\n",
    "    n_cols = fft_vals.shape[1]\n",
    "    psd_vals = np.zeros(shape=(n_rows, n_cols))\n",
    "\n",
    "    for i in range(n_rows):\n",
    "        for j in range(n_cols):\n",
    "            psd_vals[i][j] = (N/fs) * fft_vals[i][j] * fft_vals[i][j];\n",
    "\n",
    "\n",
    "    # Get frequencies for amplitudes in Hz\n",
    "    fft_freq = np.fft.rfftfreq(data.shape[1], 1.0/fs)\n",
    "\n",
    "    # Define EEG bands\n",
    "    eeg_bands = {'Delta': (0, 4),\n",
    "                 'Theta': (4, 8),\n",
    "                 'Alpha': (8, 12),\n",
    "                 'Beta': (12, 30),\n",
    "                 'Gamma': (30, 45)}\n",
    "\n",
    "    # Take the mean of the fft amplitude for each EEG band\n",
    "    eeg_band_fft = dict()\n",
    "    psd_vals_list = []\n",
    "    for band in eeg_bands:  \n",
    "        freq_ix = np.where((fft_freq >= eeg_bands[band][0]) & \n",
    "                           (fft_freq <= eeg_bands[band][1]))[0]\n",
    "        eeg_band_fft[band] = np.mean(psd_vals[:,freq_ix])\n",
    "        psd_vals_list.append(eeg_band_fft[band] * 1000000)\n",
    "    return psd_vals_list"
   ]
  },
  {
   "cell_type": "code",
   "execution_count": 40,
   "metadata": {},
   "outputs": [],
   "source": [
    "def sum_psd(data):\n",
    "    psd_vals = all_psd(data)\n",
    "    return np.sum(psd_vals)"
   ]
  },
  {
   "cell_type": "code",
   "execution_count": 41,
   "metadata": {},
   "outputs": [],
   "source": [
    "def mean_spectral_entropy(data):\n",
    "    psd_vals = all_psd(data)\n",
    "    power_ratio = []\n",
    "    sum_psd_vals = sum_psd(data)\n",
    "    for val in psd_vals:\n",
    "        power_ratio.append(val/sum_psd_vals)\n",
    "    bands = [0,4,8,12,30,45]\n",
    "    Fs = 256\n",
    "    spec_entropy = p.spectral_entropy(data, bands, Fs, power_ratio)\n",
    "    return spec_entropy"
   ]
  },
  {
   "cell_type": "code",
   "execution_count": 46,
   "metadata": {},
   "outputs": [],
   "source": [
    "def add_row(df, data, start, end):\n",
    "    row_to_add = []\n",
    "    \n",
    "    d = df.loc[(df['time'] >= start) & (df['time'] < end)]\n",
    "    data = data[:,256*start:256*end]\n",
    "    data = data[:][0]\n",
    "    \n",
    "    mean_var = mean_variance(d)\n",
    "    mean_k = mean_kurtosis(d)\n",
    "    mean_skew = mean_skewness(d)\n",
    "    pfd = mean_pfd(d)\n",
    "    h_mob, h_comp = mean_hjorth_mob_comp(df)\n",
    "    mean_spec = mean_spectral_entropy(data)\n",
    "    \n",
    "    row_to_add.append(mean_var)\n",
    "    row_to_add.append(mean_k)\n",
    "    row_to_add.append(mean_skew)\n",
    "    row_to_add.append(pfd)\n",
    "    row_to_add.append(h_mob)\n",
    "    row_to_add.append(h_comp)\n",
    "    row_to_add.append(mean_spec)\n",
    "    row_to_add.append(1)\n",
    "    \n",
    "    \n",
    "    return row_to_add"
   ]
  },
  {
   "cell_type": "code",
   "execution_count": 47,
   "metadata": {},
   "outputs": [
    {
     "name": "stdout",
     "output_type": "stream",
     "text": [
      "Extracting EDF parameters from C:\\Users\\upama\\BTP\\chb01_04.edf...\n",
      "EDF file detected\n",
      "Setting channel info structure...\n",
      "Creating raw.info structure...\n",
      "Reading 0 ... 921599  =      0.000 ...  3599.996 secs...\n"
     ]
    },
    {
     "name": "stderr",
     "output_type": "stream",
     "text": [
      "<ipython-input-47-57fbe5df9d8d>:1: RuntimeWarning: Channel names are not unique, found duplicates for: {'T8-P8'}. Applying running numbers for duplicates.\n",
      "  data = mne.io.read_raw_edf('chb01_04.edf', preload=True)\n"
     ]
    }
   ],
   "source": [
    "data = mne.io.read_raw_edf('chb01_04.edf', preload=True)\n",
    "header = ','.join(data.ch_names)\n",
    "df = data.to_data_frame()"
   ]
  },
  {
   "cell_type": "code",
   "execution_count": 57,
   "metadata": {},
   "outputs": [
    {
     "data": {
      "text/html": [
       "<div>\n",
       "<style scoped>\n",
       "    .dataframe tbody tr th:only-of-type {\n",
       "        vertical-align: middle;\n",
       "    }\n",
       "\n",
       "    .dataframe tbody tr th {\n",
       "        vertical-align: top;\n",
       "    }\n",
       "\n",
       "    .dataframe thead th {\n",
       "        text-align: right;\n",
       "    }\n",
       "</style>\n",
       "<table border=\"1\" class=\"dataframe\">\n",
       "  <thead>\n",
       "    <tr style=\"text-align: right;\">\n",
       "      <th></th>\n",
       "      <th>Variance</th>\n",
       "      <th>Kurtosis</th>\n",
       "      <th>Skewness</th>\n",
       "      <th>Petrosian Fractal Dimension</th>\n",
       "      <th>Hjorth Mobility</th>\n",
       "      <th>Hjorth Complexity</th>\n",
       "      <th>Spectral Entropy</th>\n",
       "      <th>Label</th>\n",
       "    </tr>\n",
       "  </thead>\n",
       "  <tbody>\n",
       "    <tr>\n",
       "      <th>0</th>\n",
       "      <td>10.274191</td>\n",
       "      <td>-2.000000</td>\n",
       "      <td>-3.660378e-15</td>\n",
       "      <td>1.000000</td>\n",
       "      <td>0.196882</td>\n",
       "      <td>5.750124</td>\n",
       "      <td>0.289082</td>\n",
       "      <td>1.0</td>\n",
       "    </tr>\n",
       "    <tr>\n",
       "      <th>1</th>\n",
       "      <td>57.120292</td>\n",
       "      <td>-1.500000</td>\n",
       "      <td>-5.490877e-02</td>\n",
       "      <td>0.892538</td>\n",
       "      <td>0.196882</td>\n",
       "      <td>5.750124</td>\n",
       "      <td>0.330675</td>\n",
       "      <td>1.0</td>\n",
       "    </tr>\n",
       "    <tr>\n",
       "      <th>2</th>\n",
       "      <td>14.208429</td>\n",
       "      <td>-2.041667</td>\n",
       "      <td>2.306836e-16</td>\n",
       "      <td>1.000000</td>\n",
       "      <td>0.196882</td>\n",
       "      <td>5.750124</td>\n",
       "      <td>0.184555</td>\n",
       "      <td>1.0</td>\n",
       "    </tr>\n",
       "  </tbody>\n",
       "</table>\n",
       "</div>"
      ],
      "text/plain": [
       "    Variance  Kurtosis      Skewness  Petrosian Fractal Dimension  \\\n",
       "0  10.274191 -2.000000 -3.660378e-15                     1.000000   \n",
       "1  57.120292 -1.500000 -5.490877e-02                     0.892538   \n",
       "2  14.208429 -2.041667  2.306836e-16                     1.000000   \n",
       "\n",
       "   Hjorth Mobility  Hjorth Complexity  Spectral Entropy  Label  \n",
       "0         0.196882           5.750124          0.289082    1.0  \n",
       "1         0.196882           5.750124          0.330675    1.0  \n",
       "2         0.196882           5.750124          0.184555    1.0  "
      ]
     },
     "execution_count": 57,
     "metadata": {},
     "output_type": "execute_result"
    }
   ],
   "source": [
    "#processes one seizure in 10s windows\n",
    "#adds rows with features extracted from these windows\n",
    "start = temp = 1467 \n",
    "duration = 10\n",
    "end = 1494\n",
    "\n",
    "df = df.loc[(df['time'] >= start) & (df['time'] < end)]\n",
    "\n",
    "res = pd.DataFrame()\n",
    "with open('test.csv', 'w') as file:\n",
    "    writer = csv.writer(file)\n",
    "    while temp < end:\n",
    "        row = add_row(df, data, temp, temp + duration)\n",
    "        res=res.append(pd.Series(row),ignore_index=True)\n",
    "        writer.writerow(row)\n",
    "        temp += duration\n",
    "\n",
    "res.columns = ['Variance', 'Kurtosis', 'Skewness', 'Petrosian Fractal Dimension', 'Hjorth Mobility', 'Hjorth Complexity', 'Spectral Entropy', 'Label']\n",
    "res"
   ]
  }
 ],
 "metadata": {
  "kernelspec": {
   "display_name": "Python 3",
   "language": "python",
   "name": "python3"
  },
  "language_info": {
   "codemirror_mode": {
    "name": "ipython",
    "version": 3
   },
   "file_extension": ".py",
   "mimetype": "text/x-python",
   "name": "python",
   "nbconvert_exporter": "python",
   "pygments_lexer": "ipython3",
   "version": "3.8.3"
  }
 },
 "nbformat": 4,
 "nbformat_minor": 4
}
