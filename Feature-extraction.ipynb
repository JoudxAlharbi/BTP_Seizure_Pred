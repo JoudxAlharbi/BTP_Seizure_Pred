{
 "cells": [
  {
   "cell_type": "code",
   "execution_count": 1,
   "metadata": {},
   "outputs": [],
   "source": [
    "import numpy as np\n",
    "import mne\n",
    "import pandas as pd\n",
    "import sys\n",
    "\n",
    "import csv\n",
    "from scipy.stats import skew, kurtosis\n",
    "import pyeeg as p\n",
    "from numpy import nan\n",
    "import math"
   ]
  },
  {
   "cell_type": "code",
   "execution_count": 2,
   "metadata": {},
   "outputs": [],
   "source": [
    "def mean_variance(df):\n",
    "    variance_vals = np.var(df)\n",
    "    return np.mean(variance_vals)"
   ]
  },
  {
   "cell_type": "code",
   "execution_count": 3,
   "metadata": {},
   "outputs": [],
   "source": [
    "def mean_kurtosis(df):\n",
    "    kurtosis_vals = kurtosis(df)\n",
    "    return np.mean(kurtosis_vals)"
   ]
  },
  {
   "cell_type": "code",
   "execution_count": 4,
   "metadata": {},
   "outputs": [],
   "source": [
    "def mean_skewness(df):\n",
    "    skew_vals = skew(df)\n",
    "    return np.mean(skew_vals)"
   ]
  },
  {
   "cell_type": "code",
   "execution_count": 5,
   "metadata": {},
   "outputs": [],
   "source": [
    "def mean_pfd(df):\n",
    "    pfd_vals = []\n",
    "    for col in df.columns:\n",
    "        col = df[col].to_numpy()\n",
    "        pfd_val = p.pfd(col)\n",
    "        pfd_vals.append(pfd_val)\n",
    "    return np.mean(pfd_vals)"
   ]
  },
  {
   "cell_type": "code",
   "execution_count": 6,
   "metadata": {},
   "outputs": [],
   "source": [
    "def mean_hjorth_mob_comp(df):\n",
    "    mob_vals = []\n",
    "    comp_vals = []\n",
    "    for col in df.columns:\n",
    "        col = df[col].to_numpy()\n",
    "        mob_col, comp_col = p.hjorth(col)\n",
    "        mob_vals.append(mob_col)\n",
    "        comp_vals.append(comp_col)\n",
    "    return np.mean(mob_vals), np.mean(comp_vals)"
   ]
  },
  {
   "cell_type": "code",
   "execution_count": 7,
   "metadata": {},
   "outputs": [],
   "source": [
    "def all_psd(data):\n",
    "    fs = 256                                \n",
    "    N = data.shape[1] # total num of points \n",
    "\n",
    "    # Get only in postive frequencies\n",
    "    fft_vals = np.absolute(np.fft.rfft(data))\n",
    "\n",
    "    n_rows = fft_vals.shape[0]\n",
    "    n_cols = fft_vals.shape[1]\n",
    "    psd_vals = np.zeros(shape=(n_rows, n_cols))\n",
    "\n",
    "    for i in range(n_rows):\n",
    "        for j in range(n_cols):\n",
    "            psd_vals[i][j] = (N/fs) * fft_vals[i][j] * fft_vals[i][j];\n",
    "\n",
    "\n",
    "    # Get frequencies for amplitudes in Hz\n",
    "    fft_freq = np.fft.rfftfreq(data.shape[1], 1.0/fs)\n",
    "\n",
    "    # Define EEG bands\n",
    "    eeg_bands = {'Delta': (0, 4),\n",
    "                 'Theta': (4, 8),\n",
    "                 'Alpha': (8, 12),\n",
    "                 'Beta': (12, 30),\n",
    "                 'Gamma': (30, 45)}\n",
    "\n",
    "    # Take the mean of the fft amplitude for each EEG band\n",
    "    eeg_band_fft = dict()\n",
    "    psd_vals_list = []\n",
    "    for band in eeg_bands:  \n",
    "        freq_ix = np.where((fft_freq >= eeg_bands[band][0]) & \n",
    "                           (fft_freq <= eeg_bands[band][1]))[0]\n",
    "        eeg_band_fft[band] = np.mean(psd_vals[:,freq_ix])\n",
    "        psd_vals_list.append(eeg_band_fft[band] * 1000000)\n",
    "    return psd_vals_list"
   ]
  },
  {
   "cell_type": "code",
   "execution_count": 8,
   "metadata": {},
   "outputs": [],
   "source": [
    "def sum_psd(data):\n",
    "    psd_vals = all_psd(data)\n",
    "    return np.sum(psd_vals)"
   ]
  },
  {
   "cell_type": "code",
   "execution_count": 9,
   "metadata": {},
   "outputs": [],
   "source": [
    "def mean_spectral_entropy(data):\n",
    "    psd_vals = all_psd(data)\n",
    "    power_ratio = []\n",
    "    sum_psd_vals = sum_psd(data)\n",
    "    for val in psd_vals:\n",
    "        power_ratio.append(val/sum_psd_vals)\n",
    "    bands = [0,4,8,12,30,45]\n",
    "    Fs = 256\n",
    "    spec_entropy = p.spectral_entropy(data, bands, Fs, power_ratio)\n",
    "    return spec_entropy"
   ]
  },
  {
   "cell_type": "code",
   "execution_count": 168,
   "metadata": {},
   "outputs": [],
   "source": [
    "def add_row(df_input, psd_ip, start, end, index):\n",
    "    row_to_add = []\n",
    "    d = df_input[index:index + duration]\n",
    "    psd_ip = psd_ip[:, start:end]\n",
    "    psd_ip = psd_ip[:][0]\n",
    "    \n",
    "    mean_var = mean_variance(d)\n",
    "    mean_k = mean_kurtosis(d)\n",
    "    mean_skew = mean_skewness(d)\n",
    "    pfd = mean_pfd(d)\n",
    "    h_mob, h_comp = mean_hjorth_mob_comp(d)\n",
    "    mean_spec = mean_spectral_entropy(psd_ip)\n",
    "    \n",
    "    row_to_add.append(mean_var)\n",
    "    row_to_add.append(mean_k)\n",
    "    row_to_add.append(mean_skew)\n",
    "    row_to_add.append(pfd)\n",
    "    row_to_add.append(h_mob)\n",
    "    row_to_add.append(h_comp)\n",
    "    row_to_add.append(mean_spec)\n",
    "    #Label: 1 = seizure, 0 = non-seizure. Change before running.\n",
    "    row_to_add.append(1)\n",
    "    \n",
    "    \n",
    "    return row_to_add"
   ]
  },
  {
   "cell_type": "code",
   "execution_count": 169,
   "metadata": {},
   "outputs": [
    {
     "name": "stdout",
     "output_type": "stream",
     "text": [
      "Extracting EDF parameters from C:\\Users\\upama\\BTP\\data\\chb14\\chb14_03.edf...\n",
      "EDF file detected\n",
      "Setting channel info structure...\n",
      "Creating raw.info structure...\n"
     ]
    },
    {
     "name": "stderr",
     "output_type": "stream",
     "text": [
      "<ipython-input-169-df5de7494397>:1: RuntimeWarning: Channel names are not unique, found duplicates for: {'T8-P8', '-'}. Applying running numbers for duplicates.\n",
      "  data = mne.io.read_raw_edf('data/chb14/chb14_03.edf')\n",
      "<ipython-input-169-df5de7494397>:1: RuntimeWarning: Scaling factor is not defined in following channels:\n",
      "--0, --1, --2, --3, --4\n",
      "  data = mne.io.read_raw_edf('data/chb14/chb14_03.edf')\n"
     ]
    }
   ],
   "source": [
    "data = mne.io.read_raw_edf('data/chb14/chb14_03.edf')\n",
    "                                #exclude =  Channel order : 'FP1-F7','F7-T7','T7-P7','P7-O1','FP1-F3','F3-C3','C3-P3','P3-O1','FP2-F4','F4-C4','C4-P4','P4-O2','FP2-F8','F8-T8','T8-P8','P8-O2','FZ-CZ','CZ-PZ','P7-T7','T7-FT9','FT9-FT10','FT10-T8','T8-P8'\n",
    "header = ','.join(data.ch_names)\n",
    "df = pd.DataFrame(data[:][0])\n",
    "df = df.transpose()\n",
    "# df = df.iloc[1467*256:1477*256]\n",
    "# df3"
   ]
  },
  {
   "cell_type": "code",
   "execution_count": 170,
   "metadata": {},
   "outputs": [
    {
     "data": {
      "text/plain": [
       "(921600, 6)"
      ]
     },
     "execution_count": 170,
     "metadata": {},
     "output_type": "execute_result"
    }
   ],
   "source": [
    "#for 11 , 14 , 20\n",
    "#included channels: 0, 5, 10, 15, 19, 25  \n",
    "df.drop([1,2,3,4,6,7,8,9,11,12,13,14,16,17,18,20,21,22,23,24,26,27],axis=1,inplace=True)\n",
    "df.shape"
   ]
  },
  {
   "cell_type": "code",
   "execution_count": 127,
   "metadata": {},
   "outputs": [
    {
     "data": {
      "text/plain": [
       "(921600, 6)"
      ]
     },
     "execution_count": 127,
     "metadata": {},
     "output_type": "execute_result"
    }
   ],
   "source": [
    "# #for 1 and 8\n",
    "\n",
    "#included channels: 0, 4, 8, 12, 14, 20  \n",
    "# df.drop([1,2,3,5,6,7,9,10,11,13,15,16,17,18,19,21,22],axis=1,inplace=True)\n",
    "# df.shape"
   ]
  },
  {
   "cell_type": "code",
   "execution_count": 165,
   "metadata": {
    "scrolled": true
   },
   "outputs": [
    {
     "data": {
      "text/plain": [
       "(768000, 6)"
      ]
     },
     "execution_count": 165,
     "metadata": {},
     "output_type": "execute_result"
    }
   ],
   "source": [
    "start = temp = 500*256 \n",
    "duration = 10*256\n",
    "end = 3500*256\n",
    "\n",
    "df1 = df.iloc[start:end, :]\n",
    "df1 = pd.DataFrame(df1)\n",
    "df1.shape"
   ]
  },
  {
   "cell_type": "code",
   "execution_count": 166,
   "metadata": {},
   "outputs": [
    {
     "data": {
      "text/html": [
       "<div>\n",
       "<style scoped>\n",
       "    .dataframe tbody tr th:only-of-type {\n",
       "        vertical-align: middle;\n",
       "    }\n",
       "\n",
       "    .dataframe tbody tr th {\n",
       "        vertical-align: top;\n",
       "    }\n",
       "\n",
       "    .dataframe thead th {\n",
       "        text-align: right;\n",
       "    }\n",
       "</style>\n",
       "<table border=\"1\" class=\"dataframe\">\n",
       "  <thead>\n",
       "    <tr style=\"text-align: right;\">\n",
       "      <th></th>\n",
       "      <th>0</th>\n",
       "      <th>1</th>\n",
       "      <th>2</th>\n",
       "      <th>3</th>\n",
       "      <th>4</th>\n",
       "      <th>5</th>\n",
       "      <th>6</th>\n",
       "      <th>7</th>\n",
       "    </tr>\n",
       "  </thead>\n",
       "  <tbody>\n",
       "    <tr>\n",
       "      <th>0</th>\n",
       "      <td>1.139893e-09</td>\n",
       "      <td>2.506281</td>\n",
       "      <td>0.445223</td>\n",
       "      <td>0.578684</td>\n",
       "      <td>0.003596</td>\n",
       "      <td>306.018305</td>\n",
       "      <td>0.360789</td>\n",
       "      <td>0.0</td>\n",
       "    </tr>\n",
       "    <tr>\n",
       "      <th>1</th>\n",
       "      <td>1.724304e-09</td>\n",
       "      <td>2.815366</td>\n",
       "      <td>0.288769</td>\n",
       "      <td>0.563255</td>\n",
       "      <td>0.014371</td>\n",
       "      <td>118.252411</td>\n",
       "      <td>0.500512</td>\n",
       "      <td>0.0</td>\n",
       "    </tr>\n",
       "    <tr>\n",
       "      <th>2</th>\n",
       "      <td>5.640190e-10</td>\n",
       "      <td>3.399644</td>\n",
       "      <td>0.389020</td>\n",
       "      <td>0.568320</td>\n",
       "      <td>0.005182</td>\n",
       "      <td>260.019676</td>\n",
       "      <td>0.443738</td>\n",
       "      <td>0.0</td>\n",
       "    </tr>\n",
       "    <tr>\n",
       "      <th>3</th>\n",
       "      <td>5.998926e-10</td>\n",
       "      <td>2.506627</td>\n",
       "      <td>0.511499</td>\n",
       "      <td>0.571016</td>\n",
       "      <td>0.004592</td>\n",
       "      <td>261.367839</td>\n",
       "      <td>0.455777</td>\n",
       "      <td>0.0</td>\n",
       "    </tr>\n",
       "    <tr>\n",
       "      <th>4</th>\n",
       "      <td>8.861552e-10</td>\n",
       "      <td>3.157742</td>\n",
       "      <td>0.277942</td>\n",
       "      <td>0.572611</td>\n",
       "      <td>0.004089</td>\n",
       "      <td>295.164372</td>\n",
       "      <td>0.470466</td>\n",
       "      <td>0.0</td>\n",
       "    </tr>\n",
       "    <tr>\n",
       "      <th>...</th>\n",
       "      <td>...</td>\n",
       "      <td>...</td>\n",
       "      <td>...</td>\n",
       "      <td>...</td>\n",
       "      <td>...</td>\n",
       "      <td>...</td>\n",
       "      <td>...</td>\n",
       "      <td>...</td>\n",
       "    </tr>\n",
       "    <tr>\n",
       "      <th>295</th>\n",
       "      <td>7.014591e-09</td>\n",
       "      <td>3.282963</td>\n",
       "      <td>0.045695</td>\n",
       "      <td>0.567709</td>\n",
       "      <td>0.005494</td>\n",
       "      <td>293.183844</td>\n",
       "      <td>0.239729</td>\n",
       "      <td>0.0</td>\n",
       "    </tr>\n",
       "    <tr>\n",
       "      <th>296</th>\n",
       "      <td>1.801190e-09</td>\n",
       "      <td>3.430206</td>\n",
       "      <td>0.676670</td>\n",
       "      <td>0.563081</td>\n",
       "      <td>0.006004</td>\n",
       "      <td>235.861315</td>\n",
       "      <td>0.264967</td>\n",
       "      <td>0.0</td>\n",
       "    </tr>\n",
       "    <tr>\n",
       "      <th>297</th>\n",
       "      <td>8.055922e-10</td>\n",
       "      <td>0.703640</td>\n",
       "      <td>0.190514</td>\n",
       "      <td>0.566947</td>\n",
       "      <td>0.007252</td>\n",
       "      <td>188.500703</td>\n",
       "      <td>0.632142</td>\n",
       "      <td>0.0</td>\n",
       "    </tr>\n",
       "    <tr>\n",
       "      <th>298</th>\n",
       "      <td>8.731599e-10</td>\n",
       "      <td>3.349061</td>\n",
       "      <td>0.824983</td>\n",
       "      <td>0.570406</td>\n",
       "      <td>0.005277</td>\n",
       "      <td>243.242697</td>\n",
       "      <td>0.667451</td>\n",
       "      <td>0.0</td>\n",
       "    </tr>\n",
       "    <tr>\n",
       "      <th>299</th>\n",
       "      <td>5.989032e-10</td>\n",
       "      <td>0.945625</td>\n",
       "      <td>0.384821</td>\n",
       "      <td>0.573672</td>\n",
       "      <td>0.006626</td>\n",
       "      <td>166.595119</td>\n",
       "      <td>0.710539</td>\n",
       "      <td>0.0</td>\n",
       "    </tr>\n",
       "  </tbody>\n",
       "</table>\n",
       "<p>300 rows × 8 columns</p>\n",
       "</div>"
      ],
      "text/plain": [
       "                0         1         2         3         4           5  \\\n",
       "0    1.139893e-09  2.506281  0.445223  0.578684  0.003596  306.018305   \n",
       "1    1.724304e-09  2.815366  0.288769  0.563255  0.014371  118.252411   \n",
       "2    5.640190e-10  3.399644  0.389020  0.568320  0.005182  260.019676   \n",
       "3    5.998926e-10  2.506627  0.511499  0.571016  0.004592  261.367839   \n",
       "4    8.861552e-10  3.157742  0.277942  0.572611  0.004089  295.164372   \n",
       "..            ...       ...       ...       ...       ...         ...   \n",
       "295  7.014591e-09  3.282963  0.045695  0.567709  0.005494  293.183844   \n",
       "296  1.801190e-09  3.430206  0.676670  0.563081  0.006004  235.861315   \n",
       "297  8.055922e-10  0.703640  0.190514  0.566947  0.007252  188.500703   \n",
       "298  8.731599e-10  3.349061  0.824983  0.570406  0.005277  243.242697   \n",
       "299  5.989032e-10  0.945625  0.384821  0.573672  0.006626  166.595119   \n",
       "\n",
       "            6    7  \n",
       "0    0.360789  0.0  \n",
       "1    0.500512  0.0  \n",
       "2    0.443738  0.0  \n",
       "3    0.455777  0.0  \n",
       "4    0.470466  0.0  \n",
       "..        ...  ...  \n",
       "295  0.239729  0.0  \n",
       "296  0.264967  0.0  \n",
       "297  0.632142  0.0  \n",
       "298  0.667451  0.0  \n",
       "299  0.710539  0.0  \n",
       "\n",
       "[300 rows x 8 columns]"
      ]
     },
     "execution_count": 166,
     "metadata": {},
     "output_type": "execute_result"
    }
   ],
   "source": [
    "#processes one seizure in 10s windows\n",
    "#adds rows with features extracted from these windows\n",
    "# print(df1)\n",
    "index = 0\n",
    "\n",
    "res = pd.DataFrame()\n",
    "\n",
    "#first iteration run in 'w' mode, all subsequent iteration run in 'a' mode\n",
    "with open('Training_Data.csv', 'a') as file:\n",
    "    writer = csv.writer(file)\n",
    "    while temp < end:    \n",
    "        row = add_row(df1, data, temp, temp + duration, index)\n",
    "        res=res.append(pd.Series(row),ignore_index=True)\n",
    "        writer.writerow(row)\n",
    "        temp += duration\n",
    "        index += duration\n",
    "\n",
    "#res.columns = ['Variance', 'Kurtosis', 'Skewness', 'Petrosian Fractal Dimension', 'Hjorth Mobility', 'Hjorth Complexity', 'Spectral Entropy', 'Label']\n",
    "res"
   ]
  },
  {
   "cell_type": "code",
   "execution_count": 167,
   "metadata": {},
   "outputs": [
    {
     "data": {
      "text/plain": [
       "(1764, 8)"
      ]
     },
     "execution_count": 167,
     "metadata": {},
     "output_type": "execute_result"
    }
   ],
   "source": [
    "k = pd.read_csv('Training_Data.csv')\n",
    "k.shape"
   ]
  },
  {
   "cell_type": "code",
   "execution_count": null,
   "metadata": {},
   "outputs": [],
   "source": []
  }
 ],
 "metadata": {
  "kernelspec": {
   "display_name": "Python 3",
   "language": "python",
   "name": "python3"
  },
  "language_info": {
   "codemirror_mode": {
    "name": "ipython",
    "version": 3
   },
   "file_extension": ".py",
   "mimetype": "text/x-python",
   "name": "python",
   "nbconvert_exporter": "python",
   "pygments_lexer": "ipython3",
   "version": "3.8.3"
  }
 },
 "nbformat": 4,
 "nbformat_minor": 4
}
