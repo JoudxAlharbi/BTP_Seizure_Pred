{
 "cells": [
  {
   "cell_type": "code",
   "execution_count": 76,
   "metadata": {},
   "outputs": [],
   "source": [
    "import numpy as np\n",
    "import pandas as pd\n",
    "import sys\n",
    "\n",
    "import csv\n",
    "from scipy.stats import skew, kurtosis\n",
    "from numpy import nan\n",
    "import math\n"
   ]
  },
  {
   "cell_type": "code",
   "execution_count": 77,
   "metadata": {},
   "outputs": [],
   "source": [
    "\n",
    "import pyeeg as p"
   ]
  },
  {
   "cell_type": "code",
   "execution_count": 78,
   "metadata": {},
   "outputs": [
    {
     "name": "stdout",
     "output_type": "stream",
     "text": [
      "Requirement already satisfied: mne in c:\\users\\aai\\anaconda3\\lib\\site-packages (0.21.0)\n",
      "Requirement already satisfied: numpy>=1.11.3 in c:\\users\\aai\\anaconda3\\lib\\site-packages (from mne) (1.18.5)\n",
      "Requirement already satisfied: scipy>=0.17.1 in c:\\users\\aai\\anaconda3\\lib\\site-packages (from mne) (1.5.0)\n",
      "Note: you may need to restart the kernel to use updated packages.\n"
     ]
    }
   ],
   "source": [
    "pip install mne\n"
   ]
  },
  {
   "cell_type": "code",
   "execution_count": 79,
   "metadata": {},
   "outputs": [],
   "source": [
    "import mne"
   ]
  },
  {
   "cell_type": "code",
   "execution_count": 80,
   "metadata": {},
   "outputs": [],
   "source": [
    "def all_psd(data):\n",
    "    fs = 256                                \n",
    "    N = data.shape[1] # total num of points \n",
    "\n",
    "    # Get only in postive frequencies\n",
    "    fft_vals = np.absolute(np.fft.rfft(data))\n",
    "\n",
    "    n_rows = fft_vals.shape[0]\n",
    "    n_cols = fft_vals.shape[1]\n",
    "    psd_vals = np.zeros(shape=(n_rows, n_cols))\n",
    "\n",
    "    for i in range(n_rows):\n",
    "        for j in range(n_cols):\n",
    "            psd_vals[i][j] = (N/fs) * fft_vals[i][j] * fft_vals[i][j];\n",
    "\n",
    "\n",
    "    # Get frequencies for amplitudes in Hz\n",
    "    fft_freq = np.fft.rfftfreq(data.shape[1], 1.0/fs)\n",
    "\n",
    "    # Define EEG bands\n",
    "    eeg_bands = {'Delta': (0, 4),\n",
    "                 'Theta': (4, 8),\n",
    "                 'Alpha': (8, 12),\n",
    "                 'Beta': (12, 30),\n",
    "                 'Gamma': (30, 45)}\n",
    "\n",
    "    # Take the mean of the fft amplitude for each EEG band\n",
    "    eeg_band_fft = dict()\n",
    "    psd_vals_list = []\n",
    "    for band in eeg_bands:  \n",
    "        freq_ix = np.where((fft_freq >= eeg_bands[band][0]) & \n",
    "                           (fft_freq <= eeg_bands[band][1]))[0]\n",
    "        eeg_band_fft[band] = psd_vals[:,freq_ix]\n",
    "        for i in range(len(eeg_band_fft[band])): \n",
    "            psd_vals_list.append(np.mean(eeg_band_fft[band][i]) * 1000000)\n",
    "    return psd_vals_list"
   ]
  },
  {
   "cell_type": "code",
   "execution_count": 99,
   "metadata": {},
   "outputs": [],
   "source": [
    "seizure_var=1\n",
    "def add_row(ip_psd, start, end):\n",
    "    row_to_add = []\n",
    "    \n",
    "    ip_psd = ip_psd[:,start:end]\n",
    "    ip_psd = ip_psd[:][0]\n",
    "    \n",
    "    \n",
    "    p = all_psd(ip_psd)\n",
    "    p.append(seizure_var)\n",
    "    \n",
    "    return p"
   ]
  },
  {
   "cell_type": "code",
   "execution_count": 100,
   "metadata": {},
   "outputs": [
    {
     "name": "stdout",
     "output_type": "stream",
     "text": [
      "Extracting EDF parameters from C:\\Users\\AAI\\Desktop\\btp\\chb01_03.edf...\n",
      "EDF file detected\n",
      "Setting channel info structure...\n",
      "Creating raw.info structure...\n"
     ]
    },
    {
     "name": "stderr",
     "output_type": "stream",
     "text": [
      "<ipython-input-100-e0b81f09e547>:1: RuntimeWarning: Channel names are not unique, found duplicates for: {'T8-P8'}. Applying running numbers for duplicates.\n",
      "  data = mne.io.read_raw_edf('chb01_03.edf')\n"
     ]
    }
   ],
   "source": [
    "data = mne.io.read_raw_edf('chb01_03.edf')\n",
    "header = ','.join(data.ch_names)\n",
    "df = pd.DataFrame(data[:][0])\n",
    "df = df.transpose()"
   ]
  },
  {
   "cell_type": "code",
   "execution_count": 102,
   "metadata": {},
   "outputs": [
    {
     "data": {
      "text/plain": [
       "(10240, 23)"
      ]
     },
     "execution_count": 102,
     "metadata": {},
     "output_type": "execute_result"
    }
   ],
   "source": [
    "start = temp = 2996*256 \n",
    "duration = 10*256\n",
    "end = 3036*256\n",
    "\n",
    "df1 = df.iloc[start:end, :]\n",
    "df1 = pd.DataFrame(df1)\n",
    "df1.shape"
   ]
  },
  {
   "cell_type": "code",
   "execution_count": 103,
   "metadata": {},
   "outputs": [
    {
     "data": {
      "text/html": [
       "<div>\n",
       "<style scoped>\n",
       "    .dataframe tbody tr th:only-of-type {\n",
       "        vertical-align: middle;\n",
       "    }\n",
       "\n",
       "    .dataframe tbody tr th {\n",
       "        vertical-align: top;\n",
       "    }\n",
       "\n",
       "    .dataframe thead th {\n",
       "        text-align: right;\n",
       "    }\n",
       "</style>\n",
       "<table border=\"1\" class=\"dataframe\">\n",
       "  <thead>\n",
       "    <tr style=\"text-align: right;\">\n",
       "      <th></th>\n",
       "      <th>0</th>\n",
       "      <th>1</th>\n",
       "      <th>2</th>\n",
       "      <th>3</th>\n",
       "      <th>4</th>\n",
       "      <th>5</th>\n",
       "      <th>6</th>\n",
       "      <th>7</th>\n",
       "      <th>8</th>\n",
       "      <th>9</th>\n",
       "      <th>...</th>\n",
       "      <th>106</th>\n",
       "      <th>107</th>\n",
       "      <th>108</th>\n",
       "      <th>109</th>\n",
       "      <th>110</th>\n",
       "      <th>111</th>\n",
       "      <th>112</th>\n",
       "      <th>113</th>\n",
       "      <th>114</th>\n",
       "      <th>115</th>\n",
       "    </tr>\n",
       "  </thead>\n",
       "  <tbody>\n",
       "    <tr>\n",
       "      <th>0</th>\n",
       "      <td>2398.430145</td>\n",
       "      <td>1057.376321</td>\n",
       "      <td>1228.272867</td>\n",
       "      <td>1425.589491</td>\n",
       "      <td>4015.352730</td>\n",
       "      <td>2253.893527</td>\n",
       "      <td>1467.410656</td>\n",
       "      <td>2859.182774</td>\n",
       "      <td>4128.874769</td>\n",
       "      <td>5727.598745</td>\n",
       "      <td>...</td>\n",
       "      <td>32.702493</td>\n",
       "      <td>5.868905</td>\n",
       "      <td>1.389389</td>\n",
       "      <td>1.267681</td>\n",
       "      <td>1.011791</td>\n",
       "      <td>5.608958</td>\n",
       "      <td>28.365478</td>\n",
       "      <td>28.583358</td>\n",
       "      <td>32.702493</td>\n",
       "      <td>1.0</td>\n",
       "    </tr>\n",
       "    <tr>\n",
       "      <th>1</th>\n",
       "      <td>5683.760177</td>\n",
       "      <td>3870.849233</td>\n",
       "      <td>1800.316498</td>\n",
       "      <td>955.461104</td>\n",
       "      <td>6227.326422</td>\n",
       "      <td>4427.130113</td>\n",
       "      <td>2142.612872</td>\n",
       "      <td>2960.410795</td>\n",
       "      <td>5583.169827</td>\n",
       "      <td>6398.922857</td>\n",
       "      <td>...</td>\n",
       "      <td>143.669691</td>\n",
       "      <td>11.165056</td>\n",
       "      <td>5.857666</td>\n",
       "      <td>1.767788</td>\n",
       "      <td>2.342996</td>\n",
       "      <td>6.234717</td>\n",
       "      <td>42.395905</td>\n",
       "      <td>79.530479</td>\n",
       "      <td>143.669691</td>\n",
       "      <td>1.0</td>\n",
       "    </tr>\n",
       "    <tr>\n",
       "      <th>2</th>\n",
       "      <td>15883.536738</td>\n",
       "      <td>6928.386027</td>\n",
       "      <td>3643.387289</td>\n",
       "      <td>1681.489361</td>\n",
       "      <td>17768.640030</td>\n",
       "      <td>7031.835493</td>\n",
       "      <td>2702.708040</td>\n",
       "      <td>3313.457312</td>\n",
       "      <td>8903.371842</td>\n",
       "      <td>10209.192165</td>\n",
       "      <td>...</td>\n",
       "      <td>207.652680</td>\n",
       "      <td>15.822586</td>\n",
       "      <td>4.673614</td>\n",
       "      <td>1.478758</td>\n",
       "      <td>18.882396</td>\n",
       "      <td>20.171697</td>\n",
       "      <td>30.897911</td>\n",
       "      <td>101.522740</td>\n",
       "      <td>207.652680</td>\n",
       "      <td>1.0</td>\n",
       "    </tr>\n",
       "    <tr>\n",
       "      <th>3</th>\n",
       "      <td>12425.395306</td>\n",
       "      <td>4175.535057</td>\n",
       "      <td>2614.413841</td>\n",
       "      <td>2501.161790</td>\n",
       "      <td>15171.964415</td>\n",
       "      <td>5781.670067</td>\n",
       "      <td>3326.714216</td>\n",
       "      <td>3808.665648</td>\n",
       "      <td>9489.501332</td>\n",
       "      <td>9354.724767</td>\n",
       "      <td>...</td>\n",
       "      <td>139.274665</td>\n",
       "      <td>19.535967</td>\n",
       "      <td>2.236787</td>\n",
       "      <td>1.314111</td>\n",
       "      <td>3.419047</td>\n",
       "      <td>21.297453</td>\n",
       "      <td>67.694015</td>\n",
       "      <td>101.309500</td>\n",
       "      <td>139.274665</td>\n",
       "      <td>1.0</td>\n",
       "    </tr>\n",
       "  </tbody>\n",
       "</table>\n",
       "<p>4 rows × 116 columns</p>\n",
       "</div>"
      ],
      "text/plain": [
       "            0            1            2            3             4    \\\n",
       "0   2398.430145  1057.376321  1228.272867  1425.589491   4015.352730   \n",
       "1   5683.760177  3870.849233  1800.316498   955.461104   6227.326422   \n",
       "2  15883.536738  6928.386027  3643.387289  1681.489361  17768.640030   \n",
       "3  12425.395306  4175.535057  2614.413841  2501.161790  15171.964415   \n",
       "\n",
       "           5            6            7            8             9    ...  \\\n",
       "0  2253.893527  1467.410656  2859.182774  4128.874769   5727.598745  ...   \n",
       "1  4427.130113  2142.612872  2960.410795  5583.169827   6398.922857  ...   \n",
       "2  7031.835493  2702.708040  3313.457312  8903.371842  10209.192165  ...   \n",
       "3  5781.670067  3326.714216  3808.665648  9489.501332   9354.724767  ...   \n",
       "\n",
       "          106        107       108       109        110        111        112  \\\n",
       "0   32.702493   5.868905  1.389389  1.267681   1.011791   5.608958  28.365478   \n",
       "1  143.669691  11.165056  5.857666  1.767788   2.342996   6.234717  42.395905   \n",
       "2  207.652680  15.822586  4.673614  1.478758  18.882396  20.171697  30.897911   \n",
       "3  139.274665  19.535967  2.236787  1.314111   3.419047  21.297453  67.694015   \n",
       "\n",
       "          113         114  115  \n",
       "0   28.583358   32.702493  1.0  \n",
       "1   79.530479  143.669691  1.0  \n",
       "2  101.522740  207.652680  1.0  \n",
       "3  101.309500  139.274665  1.0  \n",
       "\n",
       "[4 rows x 116 columns]"
      ]
     },
     "execution_count": 103,
     "metadata": {},
     "output_type": "execute_result"
    }
   ],
   "source": [
    "\n",
    "res = pd.DataFrame()\n",
    "\n",
    "#first iteration run in 'w' mode, all subsequent iteration run in 'a' mode\n",
    "#with open('test.csv', 'w') as file:\n",
    "#    writer = csv.writer(file)\n",
    "while temp < end:    \n",
    "    row = add_row(data, temp, temp + duration)\n",
    "    res=res.append(pd.Series(row),ignore_index=True)\n",
    "#        writer.writerow(row)\n",
    "    temp += duration\n",
    "\n",
    "#res.columns = ['Variance', 'Kurtosis', 'Skewness', 'Petrosian Fractal Dimension', 'Hjorth Mobility', 'Hjorth Complexity', 'Spectral Entropy', 'Label']\n",
    "res"
   ]
  },
  {
   "cell_type": "code",
   "execution_count": 85,
   "metadata": {},
   "outputs": [],
   "source": [
    "df_final = pd.DataFrame()"
   ]
  },
  {
   "cell_type": "code",
   "execution_count": 104,
   "metadata": {},
   "outputs": [],
   "source": [
    "df_final = df_final.append(res)"
   ]
  },
  {
   "cell_type": "code",
   "execution_count": 105,
   "metadata": {},
   "outputs": [
    {
     "data": {
      "text/plain": [
       "(104, 116)"
      ]
     },
     "execution_count": 105,
     "metadata": {},
     "output_type": "execute_result"
    }
   ],
   "source": [
    "df_final.shape"
   ]
  },
  {
   "cell_type": "code",
   "execution_count": 114,
   "metadata": {},
   "outputs": [
    {
     "name": "stdout",
     "output_type": "stream",
     "text": [
      "[0. 0. 0. 0. 0. 0. 0. 0. 0. 0. 0. 0. 0. 0. 0. 0. 0. 0. 0. 0. 0. 0. 0. 0.\n",
      " 0. 0. 0. 0. 0. 0. 0. 0. 0. 0. 0. 0. 0. 0. 0. 0. 0. 0. 0. 0. 0. 0. 0. 0.\n",
      " 0. 0. 0. 0. 0. 0. 0. 0. 0. 0. 0. 0. 0. 0. 0. 0. 0. 0. 0. 0. 0. 0. 0. 0.\n",
      " 0. 0. 0. 0. 0. 0. 0. 0. 0. 0. 0. 0. 0. 0. 0. 0. 0. 0. 0. 0. 0. 0. 0. 0.\n",
      " 0. 0. 0. 0. 1. 1. 1. 1.]\n"
     ]
    }
   ],
   "source": [
    "X = df_final.iloc[:,0:115].values\n",
    "#print(X);\n",
    "y = df_final.iloc[:,-1].values\n",
    "print(y);"
   ]
  },
  {
   "cell_type": "code",
   "execution_count": 115,
   "metadata": {},
   "outputs": [],
   "source": [
    "from sklearn.ensemble import RandomForestClassifier\n",
    "from sklearn.model_selection import GridSearchCV"
   ]
  },
  {
   "cell_type": "code",
   "execution_count": 116,
   "metadata": {},
   "outputs": [],
   "source": [
    "rf_cs = RandomForestClassifier(n_jobs=-1,random_state=0)"
   ]
  },
  {
   "cell_type": "code",
   "execution_count": null,
   "metadata": {},
   "outputs": [],
   "source": []
  },
  {
   "cell_type": "code",
   "execution_count": 117,
   "metadata": {},
   "outputs": [
    {
     "name": "stderr",
     "output_type": "stream",
     "text": [
      "C:\\Users\\AAI\\anaconda3\\lib\\site-packages\\sklearn\\model_selection\\_split.py:670: UserWarning: The least populated class in y has only 4 members, which is less than n_splits=10.\n",
      "  warnings.warn((\"The least populated class in y has only %d\"\n"
     ]
    },
    {
     "name": "stdout",
     "output_type": "stream",
     "text": [
      "{'n_estimators': 50}\n"
     ]
    },
    {
     "data": {
      "text/plain": [
       "RandomForestClassifier(n_estimators=50, n_jobs=-1, random_state=0)"
      ]
     },
     "execution_count": 117,
     "metadata": {},
     "output_type": "execute_result"
    }
   ],
   "source": [
    "param_grid = { 'n_estimators': [10,50,100,200,250,500,700],}\n",
    "    \n",
    "CV_rfc = GridSearchCV(estimator=rf_cs, param_grid=param_grid, cv= 10)\n",
    "CV_rfc.fit(X, y)\n",
    "print (CV_rfc.best_params_)\n",
    "op_RF = CV_rfc.best_estimator_\n",
    "op_RF.fit(X,y)"
   ]
  },
  {
   "cell_type": "code",
   "execution_count": 118,
   "metadata": {},
   "outputs": [
    {
     "name": "stdout",
     "output_type": "stream",
     "text": [
      "Requirement already satisfied: boruta in c:\\users\\aai\\anaconda3\\lib\\site-packages (0.3)\n",
      "Requirement already satisfied: scipy>=0.17.0 in c:\\users\\aai\\anaconda3\\lib\\site-packages (from boruta) (1.5.0)\n",
      "Requirement already satisfied: scikit-learn>=0.17.1 in c:\\users\\aai\\anaconda3\\lib\\site-packages (from boruta) (0.23.1)Note: you may need to restart the kernel to use updated packages.\n",
      "\n",
      "Requirement already satisfied: numpy>=1.10.4 in c:\\users\\aai\\anaconda3\\lib\\site-packages (from boruta) (1.18.5)\n",
      "Requirement already satisfied: joblib>=0.11 in c:\\users\\aai\\anaconda3\\lib\\site-packages (from scikit-learn>=0.17.1->boruta) (0.16.0)\n",
      "Requirement already satisfied: threadpoolctl>=2.0.0 in c:\\users\\aai\\anaconda3\\lib\\site-packages (from scikit-learn>=0.17.1->boruta) (2.1.0)\n"
     ]
    }
   ],
   "source": [
    "pip install boruta"
   ]
  },
  {
   "cell_type": "code",
   "execution_count": 119,
   "metadata": {},
   "outputs": [],
   "source": [
    "from boruta import BorutaPy\n",
    "\n"
   ]
  },
  {
   "cell_type": "code",
   "execution_count": 120,
   "metadata": {},
   "outputs": [],
   "source": [
    "# define Boruta feature selection method\n",
    "feat_selector = BorutaPy(op_RF, n_estimators='auto', verbose=2, random_state=1)"
   ]
  },
  {
   "cell_type": "code",
   "execution_count": 121,
   "metadata": {},
   "outputs": [
    {
     "name": "stdout",
     "output_type": "stream",
     "text": [
      "Iteration: \t1 / 100\n",
      "Confirmed: \t0\n",
      "Tentative: \t115\n",
      "Rejected: \t0\n",
      "Iteration: \t2 / 100\n",
      "Confirmed: \t0\n",
      "Tentative: \t115\n",
      "Rejected: \t0\n",
      "Iteration: \t3 / 100\n",
      "Confirmed: \t0\n",
      "Tentative: \t115\n",
      "Rejected: \t0\n",
      "Iteration: \t4 / 100\n",
      "Confirmed: \t0\n",
      "Tentative: \t115\n",
      "Rejected: \t0\n",
      "Iteration: \t5 / 100\n",
      "Confirmed: \t0\n",
      "Tentative: \t115\n",
      "Rejected: \t0\n",
      "Iteration: \t6 / 100\n",
      "Confirmed: \t0\n",
      "Tentative: \t115\n",
      "Rejected: \t0\n",
      "Iteration: \t7 / 100\n",
      "Confirmed: \t0\n",
      "Tentative: \t115\n",
      "Rejected: \t0\n",
      "Iteration: \t8 / 100\n",
      "Confirmed: \t0\n",
      "Tentative: \t90\n",
      "Rejected: \t25\n",
      "Iteration: \t9 / 100\n",
      "Confirmed: \t0\n",
      "Tentative: \t90\n",
      "Rejected: \t25\n",
      "Iteration: \t10 / 100\n",
      "Confirmed: \t0\n",
      "Tentative: \t90\n",
      "Rejected: \t25\n",
      "Iteration: \t11 / 100\n",
      "Confirmed: \t1\n",
      "Tentative: \t89\n",
      "Rejected: \t25\n",
      "Iteration: \t12 / 100\n",
      "Confirmed: \t1\n",
      "Tentative: \t89\n",
      "Rejected: \t25\n",
      "Iteration: \t13 / 100\n",
      "Confirmed: \t1\n",
      "Tentative: \t89\n",
      "Rejected: \t25\n",
      "Iteration: \t14 / 100\n",
      "Confirmed: \t2\n",
      "Tentative: \t86\n",
      "Rejected: \t27\n",
      "Iteration: \t15 / 100\n",
      "Confirmed: \t2\n",
      "Tentative: \t86\n",
      "Rejected: \t27\n",
      "Iteration: \t16 / 100\n",
      "Confirmed: \t2\n",
      "Tentative: \t86\n",
      "Rejected: \t27\n",
      "Iteration: \t17 / 100\n",
      "Confirmed: \t2\n",
      "Tentative: \t83\n",
      "Rejected: \t30\n",
      "Iteration: \t18 / 100\n",
      "Confirmed: \t2\n",
      "Tentative: \t83\n",
      "Rejected: \t30\n",
      "Iteration: \t19 / 100\n",
      "Confirmed: \t7\n",
      "Tentative: \t78\n",
      "Rejected: \t30\n",
      "Iteration: \t20 / 100\n",
      "Confirmed: \t7\n",
      "Tentative: \t78\n",
      "Rejected: \t30\n",
      "Iteration: \t21 / 100\n",
      "Confirmed: \t7\n",
      "Tentative: \t78\n",
      "Rejected: \t30\n",
      "Iteration: \t22 / 100\n",
      "Confirmed: \t11\n",
      "Tentative: \t74\n",
      "Rejected: \t30\n",
      "Iteration: \t23 / 100\n",
      "Confirmed: \t11\n",
      "Tentative: \t74\n",
      "Rejected: \t30\n",
      "Iteration: \t24 / 100\n",
      "Confirmed: \t11\n",
      "Tentative: \t74\n",
      "Rejected: \t30\n",
      "Iteration: \t25 / 100\n",
      "Confirmed: \t11\n",
      "Tentative: \t74\n",
      "Rejected: \t30\n",
      "Iteration: \t26 / 100\n",
      "Confirmed: \t13\n",
      "Tentative: \t72\n",
      "Rejected: \t30\n",
      "Iteration: \t27 / 100\n",
      "Confirmed: \t13\n",
      "Tentative: \t72\n",
      "Rejected: \t30\n",
      "Iteration: \t28 / 100\n",
      "Confirmed: \t13\n",
      "Tentative: \t71\n",
      "Rejected: \t31\n",
      "Iteration: \t29 / 100\n",
      "Confirmed: \t16\n",
      "Tentative: \t66\n",
      "Rejected: \t33\n",
      "Iteration: \t30 / 100\n",
      "Confirmed: \t16\n",
      "Tentative: \t66\n",
      "Rejected: \t33\n",
      "Iteration: \t31 / 100\n",
      "Confirmed: \t16\n",
      "Tentative: \t66\n",
      "Rejected: \t33\n",
      "Iteration: \t32 / 100\n",
      "Confirmed: \t17\n",
      "Tentative: \t63\n",
      "Rejected: \t35\n",
      "Iteration: \t33 / 100\n",
      "Confirmed: \t17\n",
      "Tentative: \t63\n",
      "Rejected: \t35\n",
      "Iteration: \t34 / 100\n",
      "Confirmed: \t20\n",
      "Tentative: \t60\n",
      "Rejected: \t35\n",
      "Iteration: \t35 / 100\n",
      "Confirmed: \t20\n",
      "Tentative: \t60\n",
      "Rejected: \t35\n",
      "Iteration: \t36 / 100\n",
      "Confirmed: \t20\n",
      "Tentative: \t60\n",
      "Rejected: \t35\n",
      "Iteration: \t37 / 100\n",
      "Confirmed: \t22\n",
      "Tentative: \t58\n",
      "Rejected: \t35\n",
      "Iteration: \t38 / 100\n",
      "Confirmed: \t22\n",
      "Tentative: \t58\n",
      "Rejected: \t35\n",
      "Iteration: \t39 / 100\n",
      "Confirmed: \t22\n",
      "Tentative: \t58\n",
      "Rejected: \t35\n",
      "Iteration: \t40 / 100\n",
      "Confirmed: \t26\n",
      "Tentative: \t54\n",
      "Rejected: \t35\n",
      "Iteration: \t41 / 100\n",
      "Confirmed: \t26\n",
      "Tentative: \t54\n",
      "Rejected: \t35\n",
      "Iteration: \t42 / 100\n",
      "Confirmed: \t26\n",
      "Tentative: \t54\n",
      "Rejected: \t35\n",
      "Iteration: \t43 / 100\n",
      "Confirmed: \t27\n",
      "Tentative: \t53\n",
      "Rejected: \t35\n",
      "Iteration: \t44 / 100\n",
      "Confirmed: \t27\n",
      "Tentative: \t53\n",
      "Rejected: \t35\n",
      "Iteration: \t45 / 100\n",
      "Confirmed: \t27\n",
      "Tentative: \t53\n",
      "Rejected: \t35\n",
      "Iteration: \t46 / 100\n",
      "Confirmed: \t28\n",
      "Tentative: \t52\n",
      "Rejected: \t35\n",
      "Iteration: \t47 / 100\n",
      "Confirmed: \t28\n",
      "Tentative: \t52\n",
      "Rejected: \t35\n",
      "Iteration: \t48 / 100\n",
      "Confirmed: \t28\n",
      "Tentative: \t52\n",
      "Rejected: \t35\n",
      "Iteration: \t49 / 100\n",
      "Confirmed: \t30\n",
      "Tentative: \t50\n",
      "Rejected: \t35\n",
      "Iteration: \t50 / 100\n",
      "Confirmed: \t30\n",
      "Tentative: \t50\n",
      "Rejected: \t35\n",
      "Iteration: \t51 / 100\n",
      "Confirmed: \t31\n",
      "Tentative: \t49\n",
      "Rejected: \t35\n",
      "Iteration: \t52 / 100\n",
      "Confirmed: \t31\n",
      "Tentative: \t49\n",
      "Rejected: \t35\n",
      "Iteration: \t53 / 100\n",
      "Confirmed: \t31\n",
      "Tentative: \t49\n",
      "Rejected: \t35\n",
      "Iteration: \t54 / 100\n",
      "Confirmed: \t31\n",
      "Tentative: \t49\n",
      "Rejected: \t35\n",
      "Iteration: \t55 / 100\n",
      "Confirmed: \t31\n",
      "Tentative: \t49\n",
      "Rejected: \t35\n",
      "Iteration: \t56 / 100\n",
      "Confirmed: \t31\n",
      "Tentative: \t49\n",
      "Rejected: \t35\n",
      "Iteration: \t57 / 100\n",
      "Confirmed: \t31\n",
      "Tentative: \t49\n",
      "Rejected: \t35\n",
      "Iteration: \t58 / 100\n",
      "Confirmed: \t31\n",
      "Tentative: \t49\n",
      "Rejected: \t35\n",
      "Iteration: \t59 / 100\n",
      "Confirmed: \t32\n",
      "Tentative: \t48\n",
      "Rejected: \t35\n",
      "Iteration: \t60 / 100\n",
      "Confirmed: \t32\n",
      "Tentative: \t48\n",
      "Rejected: \t35\n",
      "Iteration: \t61 / 100\n",
      "Confirmed: \t32\n",
      "Tentative: \t48\n",
      "Rejected: \t35\n",
      "Iteration: \t62 / 100\n",
      "Confirmed: \t32\n",
      "Tentative: \t48\n",
      "Rejected: \t35\n",
      "Iteration: \t63 / 100\n",
      "Confirmed: \t32\n",
      "Tentative: \t48\n",
      "Rejected: \t35\n",
      "Iteration: \t64 / 100\n",
      "Confirmed: \t32\n",
      "Tentative: \t48\n",
      "Rejected: \t35\n",
      "Iteration: \t65 / 100\n",
      "Confirmed: \t33\n",
      "Tentative: \t47\n",
      "Rejected: \t35\n",
      "Iteration: \t66 / 100\n",
      "Confirmed: \t33\n",
      "Tentative: \t47\n",
      "Rejected: \t35\n",
      "Iteration: \t67 / 100\n",
      "Confirmed: \t37\n",
      "Tentative: \t43\n",
      "Rejected: \t35\n",
      "Iteration: \t68 / 100\n",
      "Confirmed: \t37\n",
      "Tentative: \t43\n",
      "Rejected: \t35\n",
      "Iteration: \t69 / 100\n",
      "Confirmed: \t37\n",
      "Tentative: \t43\n",
      "Rejected: \t35\n",
      "Iteration: \t70 / 100\n",
      "Confirmed: \t38\n",
      "Tentative: \t42\n",
      "Rejected: \t35\n",
      "Iteration: \t71 / 100\n",
      "Confirmed: \t38\n",
      "Tentative: \t42\n",
      "Rejected: \t35\n",
      "Iteration: \t72 / 100\n",
      "Confirmed: \t38\n",
      "Tentative: \t41\n",
      "Rejected: \t36\n",
      "Iteration: \t73 / 100\n",
      "Confirmed: \t38\n",
      "Tentative: \t41\n",
      "Rejected: \t36\n",
      "Iteration: \t74 / 100\n",
      "Confirmed: \t38\n",
      "Tentative: \t41\n",
      "Rejected: \t36\n",
      "Iteration: \t75 / 100\n",
      "Confirmed: \t39\n",
      "Tentative: \t40\n",
      "Rejected: \t36\n",
      "Iteration: \t76 / 100\n",
      "Confirmed: \t39\n",
      "Tentative: \t40\n",
      "Rejected: \t36\n",
      "Iteration: \t77 / 100\n",
      "Confirmed: \t39\n",
      "Tentative: \t39\n",
      "Rejected: \t37\n",
      "Iteration: \t78 / 100\n",
      "Confirmed: \t39\n",
      "Tentative: \t39\n",
      "Rejected: \t37\n",
      "Iteration: \t79 / 100\n",
      "Confirmed: \t39\n",
      "Tentative: \t39\n",
      "Rejected: \t37\n",
      "Iteration: \t80 / 100\n",
      "Confirmed: \t40\n",
      "Tentative: \t38\n",
      "Rejected: \t37\n",
      "Iteration: \t81 / 100\n",
      "Confirmed: \t40\n",
      "Tentative: \t38\n",
      "Rejected: \t37\n",
      "Iteration: \t82 / 100\n",
      "Confirmed: \t40\n",
      "Tentative: \t38\n",
      "Rejected: \t37\n",
      "Iteration: \t83 / 100\n",
      "Confirmed: \t41\n",
      "Tentative: \t37\n",
      "Rejected: \t37\n",
      "Iteration: \t84 / 100\n",
      "Confirmed: \t41\n",
      "Tentative: \t37\n",
      "Rejected: \t37\n",
      "Iteration: \t85 / 100\n",
      "Confirmed: \t41\n",
      "Tentative: \t37\n",
      "Rejected: \t37\n",
      "Iteration: \t86 / 100\n",
      "Confirmed: \t41\n",
      "Tentative: \t37\n",
      "Rejected: \t37\n",
      "Iteration: \t87 / 100\n",
      "Confirmed: \t41\n",
      "Tentative: \t37\n",
      "Rejected: \t37\n",
      "Iteration: \t88 / 100\n",
      "Confirmed: \t42\n",
      "Tentative: \t36\n",
      "Rejected: \t37\n",
      "Iteration: \t89 / 100\n",
      "Confirmed: \t42\n",
      "Tentative: \t36\n",
      "Rejected: \t37\n",
      "Iteration: \t90 / 100\n",
      "Confirmed: \t42\n",
      "Tentative: \t36\n",
      "Rejected: \t37\n",
      "Iteration: \t91 / 100\n",
      "Confirmed: \t42\n",
      "Tentative: \t36\n",
      "Rejected: \t37\n",
      "Iteration: \t92 / 100\n",
      "Confirmed: \t42\n",
      "Tentative: \t36\n",
      "Rejected: \t37\n",
      "Iteration: \t93 / 100\n",
      "Confirmed: \t42\n",
      "Tentative: \t36\n",
      "Rejected: \t37\n",
      "Iteration: \t94 / 100\n",
      "Confirmed: \t42\n",
      "Tentative: \t36\n",
      "Rejected: \t37\n",
      "Iteration: \t95 / 100\n",
      "Confirmed: \t43\n",
      "Tentative: \t34\n",
      "Rejected: \t38\n",
      "Iteration: \t96 / 100\n",
      "Confirmed: \t43\n",
      "Tentative: \t34\n",
      "Rejected: \t38\n",
      "Iteration: \t97 / 100\n",
      "Confirmed: \t43\n",
      "Tentative: \t34\n",
      "Rejected: \t38\n",
      "Iteration: \t98 / 100\n",
      "Confirmed: \t44\n",
      "Tentative: \t33\n",
      "Rejected: \t38\n",
      "Iteration: \t99 / 100\n",
      "Confirmed: \t44\n",
      "Tentative: \t33\n",
      "Rejected: \t38\n",
      "\n",
      "\n",
      "BorutaPy finished running.\n",
      "\n",
      "Iteration: \t100 / 100\n",
      "Confirmed: \t44\n",
      "Tentative: \t30\n",
      "Rejected: \t38\n"
     ]
    },
    {
     "data": {
      "text/plain": [
       "BorutaPy(estimator=RandomForestClassifier(n_estimators=124, n_jobs=-1,\n",
       "                                          random_state=RandomState(MT19937) at 0x27C1B4A4B40),\n",
       "         n_estimators='auto',\n",
       "         random_state=RandomState(MT19937) at 0x27C1B4A4B40, verbose=2)"
      ]
     },
     "execution_count": 121,
     "metadata": {},
     "output_type": "execute_result"
    }
   ],
   "source": [
    "feat_selector.fit(X, y)\n"
   ]
  },
  {
   "cell_type": "code",
   "execution_count": 122,
   "metadata": {},
   "outputs": [
    {
     "data": {
      "text/plain": [
       "array([False, False,  True, False,  True,  True, False,  True, False,\n",
       "       False,  True,  True, False, False, False,  True,  True,  True,\n",
       "        True,  True, False,  True,  True,  True, False, False, False,\n",
       "        True, False, False, False,  True,  True,  True,  True, False,\n",
       "       False,  True,  True, False, False,  True,  True,  True,  True,\n",
       "        True, False, False,  True, False, False, False, False, False,\n",
       "       False, False, False, False, False, False, False, False, False,\n",
       "       False,  True, False,  True,  True, False, False, False, False,\n",
       "       False, False, False, False, False, False, False, False, False,\n",
       "        True,  True,  True, False, False, False, False, False,  True,\n",
       "       False,  True, False, False, False, False, False, False, False,\n",
       "        True, False,  True, False,  True, False, False,  True,  True,\n",
       "        True,  True, False, False,  True,  True, False])"
      ]
     },
     "execution_count": 122,
     "metadata": {},
     "output_type": "execute_result"
    }
   ],
   "source": [
    "feat_selector.support_"
   ]
  },
  {
   "cell_type": "code",
   "execution_count": 123,
   "metadata": {},
   "outputs": [
    {
     "data": {
      "text/plain": [
       "115"
      ]
     },
     "execution_count": 123,
     "metadata": {},
     "output_type": "execute_result"
    }
   ],
   "source": [
    "np.size(feat_selector.support_) "
   ]
  },
  {
   "cell_type": "code",
   "execution_count": 124,
   "metadata": {},
   "outputs": [
    {
     "data": {
      "text/plain": [
       "array([ 2,  2,  1,  2,  1,  1,  2,  1,  2,  2,  1,  1,  2,  2,  2,  1,  1,\n",
       "        1,  1,  1,  2,  1,  1,  1,  2,  2, 10,  1,  2,  2, 14,  1,  1,  1,\n",
       "        1,  2,  2,  1,  1,  2,  8,  1,  1,  1,  1,  1, 32,  9,  1, 32, 32,\n",
       "       32, 20, 20, 32, 32, 11, 32, 32,  7,  2, 18, 32, 32,  1,  2,  1,  1,\n",
       "        2,  3,  3, 32, 12, 20, 32, 32, 32, 16, 32, 32, 32,  1,  1,  1,  5,\n",
       "       32, 32, 32, 14,  1,  2,  1,  5, 13, 17,  2,  2, 32,  2,  1,  2,  1,\n",
       "        2,  1,  2,  2,  1,  1,  1,  1,  2,  3,  1,  1,  2])"
      ]
     },
     "execution_count": 124,
     "metadata": {},
     "output_type": "execute_result"
    }
   ],
   "source": [
    "feat_selector.ranking_"
   ]
  },
  {
   "cell_type": "code",
   "execution_count": 125,
   "metadata": {},
   "outputs": [],
   "source": [
    "X_filtered = feat_selector.transform(X)"
   ]
  },
  {
   "cell_type": "code",
   "execution_count": 134,
   "metadata": {},
   "outputs": [],
   "source": [
    "#X_filtered"
   ]
  },
  {
   "cell_type": "code",
   "execution_count": 131,
   "metadata": {},
   "outputs": [],
   "source": [
    "#np.size(X_filtered)"
   ]
  },
  {
   "cell_type": "code",
   "execution_count": 132,
   "metadata": {},
   "outputs": [],
   "source": [
    "test=pd.DataFrame(X_filtered)\n",
    "#test"
   ]
  },
  {
   "cell_type": "code",
   "execution_count": 133,
   "metadata": {},
   "outputs": [],
   "source": [
    "#test.shape"
   ]
  },
  {
   "cell_type": "code",
   "execution_count": null,
   "metadata": {},
   "outputs": [],
   "source": []
  }
 ],
 "metadata": {
  "kernelspec": {
   "display_name": "Python 3",
   "language": "python",
   "name": "python3"
  },
  "language_info": {
   "codemirror_mode": {
    "name": "ipython",
    "version": 3
   },
   "file_extension": ".py",
   "mimetype": "text/x-python",
   "name": "python",
   "nbconvert_exporter": "python",
   "pygments_lexer": "ipython3",
   "version": "3.8.3"
  }
 },
 "nbformat": 4,
 "nbformat_minor": 4
}
