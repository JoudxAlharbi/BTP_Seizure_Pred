{
 "cells": [
  {
   "cell_type": "code",
   "execution_count": 1,
   "metadata": {},
   "outputs": [],
   "source": [
    "import numpy as np\n",
    "import mne\n",
    "import pandas as pd\n",
    "import sys\n",
    "\n",
    "import csv\n",
    "from scipy.stats import skew, kurtosis\n",
    "import pyeeg as p\n",
    "from numpy import nan\n",
    "import math\n"
   ]
  },
  {
   "cell_type": "code",
   "execution_count": 2,
   "metadata": {},
   "outputs": [],
   "source": [
    "def all_psd(data):\n",
    "    fs = 256                                \n",
    "    N = data.shape[1] # total num of points \n",
    "\n",
    "    # Get only in postive frequencies\n",
    "    fft_vals = np.absolute(np.fft.rfft(data))\n",
    "\n",
    "    n_rows = fft_vals.shape[0]\n",
    "    n_cols = fft_vals.shape[1]\n",
    "    psd_vals = np.zeros(shape=(n_rows, n_cols))\n",
    "\n",
    "    for i in range(n_rows):\n",
    "        for j in range(n_cols):\n",
    "            psd_vals[i][j] = (N/fs) * fft_vals[i][j] * fft_vals[i][j];\n",
    "\n",
    "\n",
    "    # Get frequencies for amplitudes in Hz\n",
    "    fft_freq = np.fft.rfftfreq(data.shape[1], 1.0/fs)\n",
    "\n",
    "    # Define EEG bands\n",
    "    eeg_bands = {'Delta': (0, 4),\n",
    "                 'Theta': (4, 8),\n",
    "                 'Alpha': (8, 12),\n",
    "                 'Beta': (12, 30),\n",
    "                 'Gamma': (30, 45)}\n",
    "\n",
    "    # Take the mean of the fft amplitude for each EEG band\n",
    "    eeg_band_fft = dict()\n",
    "    psd_vals_list = []\n",
    "    for band in eeg_bands:  \n",
    "        freq_ix = np.where((fft_freq >= eeg_bands[band][0]) & \n",
    "                           (fft_freq <= eeg_bands[band][1]))[0]\n",
    "        eeg_band_fft[band] = psd_vals[:,freq_ix]\n",
    "        for i in range(len(eeg_band_fft[band])): \n",
    "            psd_vals_list.append(np.mean(eeg_band_fft[band][i]) * 1000000)\n",
    "    return psd_vals_list"
   ]
  },
  {
   "cell_type": "code",
   "execution_count": 4,
   "metadata": {},
   "outputs": [
    {
     "name": "stdout",
     "output_type": "stream",
     "text": [
      "Extracting EDF parameters from F:\\PY\\Pro\\pro\\specto\\chb01_03.edf...\n",
      "EDF file detected\n",
      "Setting channel info structure...\n",
      "Creating raw.info structure...\n",
      "Reading 0 ... 921599  =      0.000 ...  3599.996 secs...\n"
     ]
    },
    {
     "name": "stderr",
     "output_type": "stream",
     "text": [
      "<ipython-input-4-cb28b99d03e4>:1: RuntimeWarning: Channel names are not unique, found duplicates for: {'T8-P8'}. Applying running numbers for duplicates.\n",
      "  data = mne.io.read_raw_edf('chb01_03.edf', preload=True)\n"
     ]
    }
   ],
   "source": [
    "data = mne.io.read_raw_edf('chb01_03.edf', preload=True)\n",
    "header = ','.join(data.ch_names)\n",
    "df = data.to_data_frame()"
   ]
  },
  {
   "cell_type": "code",
   "execution_count": 23,
   "metadata": {},
   "outputs": [],
   "source": [
    "seizure_var=1\n",
    "def add_row(ip_psd, start, end):\n",
    "    row_to_add = []\n",
    "    \n",
    "    ip_psd = ip_psd[:,start:end]\n",
    "    ip_psd = ip_psd[:][0]\n",
    "    \n",
    "    \n",
    "    p = all_psd(ip_psd)\n",
    "    p.append(seizure_var)\n",
    "    \n",
    "    return p"
   ]
  },
  {
   "cell_type": "code",
   "execution_count": 24,
   "metadata": {},
   "outputs": [
    {
     "name": "stdout",
     "output_type": "stream",
     "text": [
      "Extracting EDF parameters from F:\\PY\\Pro\\pro\\specto\\chb01_03.edf...\n",
      "EDF file detected\n",
      "Setting channel info structure...\n",
      "Creating raw.info structure...\n"
     ]
    },
    {
     "name": "stderr",
     "output_type": "stream",
     "text": [
      "<ipython-input-24-e0b81f09e547>:1: RuntimeWarning: Channel names are not unique, found duplicates for: {'T8-P8'}. Applying running numbers for duplicates.\n",
      "  data = mne.io.read_raw_edf('chb01_03.edf')\n"
     ]
    }
   ],
   "source": [
    "data = mne.io.read_raw_edf('chb01_03.edf')\n",
    "header = ','.join(data.ch_names)\n",
    "df = pd.DataFrame(data[:][0])\n",
    "df = df.transpose()"
   ]
  },
  {
   "cell_type": "code",
   "execution_count": 25,
   "metadata": {},
   "outputs": [
    {
     "data": {
      "text/plain": [
       "(10240, 23)"
      ]
     },
     "execution_count": 25,
     "metadata": {},
     "output_type": "execute_result"
    }
   ],
   "source": [
    "start = temp = 2996*256 \n",
    "duration = 10*256\n",
    "end = 3036*256\n",
    "\n",
    "df1 = df.iloc[start:end, :]\n",
    "df1 = pd.DataFrame(df1)\n",
    "df1.shape"
   ]
  },
  {
   "cell_type": "code",
   "execution_count": 26,
   "metadata": {
    "scrolled": true
   },
   "outputs": [
    {
     "data": {
      "text/html": [
       "<div>\n",
       "<style scoped>\n",
       "    .dataframe tbody tr th:only-of-type {\n",
       "        vertical-align: middle;\n",
       "    }\n",
       "\n",
       "    .dataframe tbody tr th {\n",
       "        vertical-align: top;\n",
       "    }\n",
       "\n",
       "    .dataframe thead th {\n",
       "        text-align: right;\n",
       "    }\n",
       "</style>\n",
       "<table border=\"1\" class=\"dataframe\">\n",
       "  <thead>\n",
       "    <tr style=\"text-align: right;\">\n",
       "      <th></th>\n",
       "      <th>0</th>\n",
       "      <th>1</th>\n",
       "      <th>2</th>\n",
       "      <th>3</th>\n",
       "      <th>4</th>\n",
       "      <th>5</th>\n",
       "      <th>6</th>\n",
       "      <th>7</th>\n",
       "      <th>8</th>\n",
       "      <th>9</th>\n",
       "      <th>...</th>\n",
       "      <th>106</th>\n",
       "      <th>107</th>\n",
       "      <th>108</th>\n",
       "      <th>109</th>\n",
       "      <th>110</th>\n",
       "      <th>111</th>\n",
       "      <th>112</th>\n",
       "      <th>113</th>\n",
       "      <th>114</th>\n",
       "      <th>115</th>\n",
       "    </tr>\n",
       "  </thead>\n",
       "  <tbody>\n",
       "    <tr>\n",
       "      <th>0</th>\n",
       "      <td>2398.430145</td>\n",
       "      <td>1057.376321</td>\n",
       "      <td>1228.272867</td>\n",
       "      <td>1425.589491</td>\n",
       "      <td>4015.352730</td>\n",
       "      <td>2253.893527</td>\n",
       "      <td>1467.410656</td>\n",
       "      <td>2859.182774</td>\n",
       "      <td>4128.874769</td>\n",
       "      <td>5727.598745</td>\n",
       "      <td>...</td>\n",
       "      <td>32.702493</td>\n",
       "      <td>5.868905</td>\n",
       "      <td>1.389389</td>\n",
       "      <td>1.267681</td>\n",
       "      <td>1.011791</td>\n",
       "      <td>5.608958</td>\n",
       "      <td>28.365478</td>\n",
       "      <td>28.583358</td>\n",
       "      <td>32.702493</td>\n",
       "      <td>1.0</td>\n",
       "    </tr>\n",
       "    <tr>\n",
       "      <th>1</th>\n",
       "      <td>5683.760177</td>\n",
       "      <td>3870.849233</td>\n",
       "      <td>1800.316498</td>\n",
       "      <td>955.461104</td>\n",
       "      <td>6227.326422</td>\n",
       "      <td>4427.130113</td>\n",
       "      <td>2142.612872</td>\n",
       "      <td>2960.410795</td>\n",
       "      <td>5583.169827</td>\n",
       "      <td>6398.922857</td>\n",
       "      <td>...</td>\n",
       "      <td>143.669691</td>\n",
       "      <td>11.165056</td>\n",
       "      <td>5.857666</td>\n",
       "      <td>1.767788</td>\n",
       "      <td>2.342996</td>\n",
       "      <td>6.234717</td>\n",
       "      <td>42.395905</td>\n",
       "      <td>79.530479</td>\n",
       "      <td>143.669691</td>\n",
       "      <td>1.0</td>\n",
       "    </tr>\n",
       "    <tr>\n",
       "      <th>2</th>\n",
       "      <td>15883.536738</td>\n",
       "      <td>6928.386027</td>\n",
       "      <td>3643.387289</td>\n",
       "      <td>1681.489361</td>\n",
       "      <td>17768.640030</td>\n",
       "      <td>7031.835493</td>\n",
       "      <td>2702.708040</td>\n",
       "      <td>3313.457312</td>\n",
       "      <td>8903.371842</td>\n",
       "      <td>10209.192165</td>\n",
       "      <td>...</td>\n",
       "      <td>207.652680</td>\n",
       "      <td>15.822586</td>\n",
       "      <td>4.673614</td>\n",
       "      <td>1.478758</td>\n",
       "      <td>18.882396</td>\n",
       "      <td>20.171697</td>\n",
       "      <td>30.897911</td>\n",
       "      <td>101.522740</td>\n",
       "      <td>207.652680</td>\n",
       "      <td>1.0</td>\n",
       "    </tr>\n",
       "    <tr>\n",
       "      <th>3</th>\n",
       "      <td>12425.395306</td>\n",
       "      <td>4175.535057</td>\n",
       "      <td>2614.413841</td>\n",
       "      <td>2501.161790</td>\n",
       "      <td>15171.964415</td>\n",
       "      <td>5781.670067</td>\n",
       "      <td>3326.714216</td>\n",
       "      <td>3808.665648</td>\n",
       "      <td>9489.501332</td>\n",
       "      <td>9354.724767</td>\n",
       "      <td>...</td>\n",
       "      <td>139.274665</td>\n",
       "      <td>19.535967</td>\n",
       "      <td>2.236787</td>\n",
       "      <td>1.314111</td>\n",
       "      <td>3.419047</td>\n",
       "      <td>21.297453</td>\n",
       "      <td>67.694015</td>\n",
       "      <td>101.309500</td>\n",
       "      <td>139.274665</td>\n",
       "      <td>1.0</td>\n",
       "    </tr>\n",
       "  </tbody>\n",
       "</table>\n",
       "<p>4 rows × 116 columns</p>\n",
       "</div>"
      ],
      "text/plain": [
       "            0            1            2            3             4    \\\n",
       "0   2398.430145  1057.376321  1228.272867  1425.589491   4015.352730   \n",
       "1   5683.760177  3870.849233  1800.316498   955.461104   6227.326422   \n",
       "2  15883.536738  6928.386027  3643.387289  1681.489361  17768.640030   \n",
       "3  12425.395306  4175.535057  2614.413841  2501.161790  15171.964415   \n",
       "\n",
       "           5            6            7            8             9    ...  \\\n",
       "0  2253.893527  1467.410656  2859.182774  4128.874769   5727.598745  ...   \n",
       "1  4427.130113  2142.612872  2960.410795  5583.169827   6398.922857  ...   \n",
       "2  7031.835493  2702.708040  3313.457312  8903.371842  10209.192165  ...   \n",
       "3  5781.670067  3326.714216  3808.665648  9489.501332   9354.724767  ...   \n",
       "\n",
       "          106        107       108       109        110        111        112  \\\n",
       "0   32.702493   5.868905  1.389389  1.267681   1.011791   5.608958  28.365478   \n",
       "1  143.669691  11.165056  5.857666  1.767788   2.342996   6.234717  42.395905   \n",
       "2  207.652680  15.822586  4.673614  1.478758  18.882396  20.171697  30.897911   \n",
       "3  139.274665  19.535967  2.236787  1.314111   3.419047  21.297453  67.694015   \n",
       "\n",
       "          113         114  115  \n",
       "0   28.583358   32.702493  1.0  \n",
       "1   79.530479  143.669691  1.0  \n",
       "2  101.522740  207.652680  1.0  \n",
       "3  101.309500  139.274665  1.0  \n",
       "\n",
       "[4 rows x 116 columns]"
      ]
     },
     "execution_count": 26,
     "metadata": {},
     "output_type": "execute_result"
    }
   ],
   "source": [
    "\n",
    "res = pd.DataFrame()\n",
    "\n",
    "#first iteration run in 'w' mode, all subsequent iteration run in 'a' mode\n",
    "#with open('test.csv', 'w') as file:\n",
    "#    writer = csv.writer(file)\n",
    "while temp < end:    \n",
    "    row = add_row(data, temp, temp + duration)\n",
    "    res=res.append(pd.Series(row),ignore_index=True)\n",
    "#        writer.writerow(row)\n",
    "    temp += duration\n",
    "\n",
    "#res.columns = ['Variance', 'Kurtosis', 'Skewness', 'Petrosian Fractal Dimension', 'Hjorth Mobility', 'Hjorth Complexity', 'Spectral Entropy', 'Label']\n",
    "res"
   ]
  },
  {
   "cell_type": "code",
   "execution_count": 27,
   "metadata": {},
   "outputs": [],
   "source": [
    "from sklearn.ensemble import RandomForestClassifier"
   ]
  },
  {
   "cell_type": "code",
   "execution_count": 30,
   "metadata": {},
   "outputs": [],
   "source": [
    "rf_cs = RandomForestClassifier()"
   ]
  },
  {
   "cell_type": "code",
   "execution_count": null,
   "metadata": {},
   "outputs": [],
   "source": []
  }
 ],
 "metadata": {
  "kernelspec": {
   "display_name": "Python 3",
   "language": "python",
   "name": "python3"
  },
  "language_info": {
   "codemirror_mode": {
    "name": "ipython",
    "version": 3
   },
   "file_extension": ".py",
   "mimetype": "text/x-python",
   "name": "python",
   "nbconvert_exporter": "python",
   "pygments_lexer": "ipython3",
   "version": "3.7.3"
  }
 },
 "nbformat": 4,
 "nbformat_minor": 4
}
