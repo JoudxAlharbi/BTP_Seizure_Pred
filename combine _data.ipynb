{
 "cells": [
  {
   "cell_type": "code",
   "execution_count": null,
   "metadata": {},
   "outputs": [],
   "source": [
    "#non seizure seconds: 4000, 9000, 6500, 12500, 9000\n",
    "ch01_n = pd.read_csv('chb01_non.csv', header=None)\n",
    "ch08_n = pd.read_csv('chb08_non.csv', header=None)\n",
    "ch11_n = pd.read_csv('chb11_non.csv', header=None)\n",
    "ch14_n = pd.read_csv('chb14_non.csv', header=None)\n",
    "ch20_n = pd.read_csv('chb20_non.csv', header=None)\n",
    "\n",
    "ch01_s = pd.read_csv('chb01.csv', header=None)\n",
    "ch08_s = pd.read_csv('chb08.csv', header=None)\n",
    "ch11_s = pd.read_csv('chb11.csv', header=None)\n",
    "ch14_s = pd.read_csv('chb14.csv', header=None)\n",
    "ch20_s = pd.read_csv('chb20.csv', header=None)\n",
    "\n",
    "print(ch01_s.shape, ch08_s.shape, ch11_s.shape, ch14_s.shape, ch20_s.shape)\n",
    "print(ch01_n.shape, ch08_n.shape, ch11_n.shape, ch14_n.shape, ch20_n.shape)"
   ]
  },
  {
   "cell_type": "code",
   "execution_count": null,
   "metadata": {},
   "outputs": [],
   "source": [
    "c1 = [ch01_s, ch01_n]\n",
    "chb01_combined = pd.concat(c1, sort=False)\n",
    "chb01_combined.columns = ['Variance', 'Kurtosis', 'Skewness', 'PFD', 'Hjorth Mobility', 'Hjorth Complexity', 'Spectral Entropy', 'Seizure']\n",
    "chb01_combined.to_csv('chb01_combined.csv')\n",
    "chb01_combined"
   ]
  },
  {
   "cell_type": "code",
   "execution_count": null,
   "metadata": {},
   "outputs": [],
   "source": [
    "c8 = [ch08_s, ch08_n]\n",
    "chb08_combined = pd.concat(c8, sort=False)\n",
    "chb08_combined.columns = ['Variance', 'Kurtosis', 'Skewness', 'PFD', 'Hjorth Mobility', 'Hjorth Complexity', 'Spectral Entropy', 'Seizure']\n",
    "chb08_combined.to_csv('chb08_combined.csv')\n",
    "chb08_combined"
   ]
  },
  {
   "cell_type": "code",
   "execution_count": null,
   "metadata": {},
   "outputs": [],
   "source": [
    "c11 = [ch11_s, ch11_n]\n",
    "chb11_combined = pd.concat(c11, sort=False)\n",
    "chb11_combined.columns = ['Variance', 'Kurtosis', 'Skewness', 'PFD', 'Hjorth Mobility', 'Hjorth Complexity', 'Spectral Entropy', 'Seizure']\n",
    "chb11_combined.to_csv('chb11_combined.csv')\n",
    "chb11_combined"
   ]
  },
  {
   "cell_type": "code",
   "execution_count": null,
   "metadata": {},
   "outputs": [],
   "source": [
    "c14 = [ch14_s, ch14_n]\n",
    "chb14_combined = pd.concat(c14, sort=False)\n",
    "chb14_combined.columns = ['Variance', 'Kurtosis', 'Skewness', 'PFD', 'Hjorth Mobility', 'Hjorth Complexity', 'Spectral Entropy', 'Seizure']\n",
    "chb14_combined.to_csv('chb14_combined.csv')\n",
    "chb14_combined"
   ]
  },
  {
   "cell_type": "code",
   "execution_count": null,
   "metadata": {},
   "outputs": [],
   "source": [
    "c20 = [ch20_s, ch20_n]\n",
    "chb20_combined = pd.concat(c20, sort=False)\n",
    "chb20_combined.columns = ['Variance', 'Kurtosis', 'Skewness', 'PFD', 'Hjorth Mobility', 'Hjorth Complexity', 'Spectral Entropy', 'Seizure']\n",
    "chb20_combined.to_csv('chb20_combined.csv')\n",
    "chb20_combined"
   ]
  },
  {
   "cell_type": "code",
   "execution_count": null,
   "metadata": {},
   "outputs": [],
   "source": [
    "train = [chb01_combined, chb08_combined, chb11_combined, chb14_combined]\n",
    "t = pd.concat(train, sort = False)\n",
    "t.to_csv('Train_1_8_11_14.csv')"
   ]
  }
 ],
 "metadata": {
  "kernelspec": {
   "display_name": "Python 3",
   "language": "python",
   "name": "python3"
  },
  "language_info": {
   "codemirror_mode": {
    "name": "ipython",
    "version": 3
   },
   "file_extension": ".py",
   "mimetype": "text/x-python",
   "name": "python",
   "nbconvert_exporter": "python",
   "pygments_lexer": "ipython3",
   "version": "3.8.3"
  }
 },
 "nbformat": 4,
 "nbformat_minor": 4
}
