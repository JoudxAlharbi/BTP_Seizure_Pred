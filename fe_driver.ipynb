{
 "cells": [
  {
   "cell_type": "code",
   "execution_count": null,
   "metadata": {},
   "outputs": [],
   "source": [
    "import pandas as pd\n",
    "from fe import read_data, drop_11, drop_8, trim, write_to_file\n",
    "import warnings\n",
    "warnings.filterwarnings('ignore')"
   ]
  },
  {
   "cell_type": "code",
   "execution_count": null,
   "metadata": {
    "scrolled": true
   },
   "outputs": [],
   "source": [
    "k = pd.read_csv('main_trimmed.csv')"
   ]
  },
  {
   "cell_type": "code",
   "execution_count": null,
   "metadata": {},
   "outputs": [],
   "source": [
    "chb01 = k.iloc[0:7,:]\n",
    "chb08 = k.iloc[7:12, :]\n",
    "chb11 = k.iloc[12:15, :]\n",
    "chb14 = k.iloc[15:23, :]\n",
    "chb20 = k.iloc[23:31, :]"
   ]
  },
  {
   "cell_type": "code",
   "execution_count": null,
   "metadata": {},
   "outputs": [],
   "source": [
    "patients = [chb01, chb08, chb11, chb14, chb20]\n",
    "files = ['chb01', 'chb08', 'chb11', 'chb14', 'chb20']\n",
    "\n",
    "for i, patient in enumerate(patients):\n",
    "    for index, row in patient.iterrows():\n",
    "        print(index, row.Patient, row.File)\n",
    "        df, data = read_data(row.Patient, row.File)\n",
    "        if(row.Patient == 'chb01' or row.Patient == 'chb08' ):\n",
    "            drop_8(df)\n",
    "        else:\n",
    "            drop_11(df)\n",
    "        df1, start, end, temp = trim(df, row.Start, row.End)\n",
    "        n = 'w' if index==0 else 'a'\n",
    "        write_to_file('{}.csv'.format(files[i]), n, start, end, temp, df1, data, 1)\n",
    "        \n",
    "    "
   ]
  },
  {
   "cell_type": "code",
   "execution_count": null,
   "metadata": {
    "scrolled": false
   },
   "outputs": [],
   "source": [
    "# Seizure Seconds in files respectively: 440, 910, 800, 160, 310\n",
    "# Main shapes: (46, 8) (93, 8) (82, 8) (20, 8) (30, 8)\n",
    "#main trimmed shapes: (43, 8) (90, 8) (79, 8) (15, 8) (30, 8)\n",
    "\n",
    "ch01 = pd.read_csv('chb01.csv')\n",
    "ch08 = pd.read_csv('chb08.csv')\n",
    "ch11 = pd.read_csv('chb11.csv')\n",
    "ch14 = pd.read_csv('chb14.csv')\n",
    "ch20 = pd.read_csv('chb20.csv')\n",
    "\n",
    "print(ch01.shape, ch08.shape, ch11.shape, ch14.shape, ch20.shape)"
   ]
  },
  {
   "cell_type": "code",
   "execution_count": null,
   "metadata": {},
   "outputs": [],
   "source": [
    "# Main shapes: (46, 8) (93, 8) (82, 8) (20, 8) (30, 8)\n",
    "#main trimmed shapes: (43, 8) (90, 8) (79, 8) (15, 8) (30, 8)"
   ]
  }
 ],
 "metadata": {
  "kernelspec": {
   "display_name": "Python 3",
   "language": "python",
   "name": "python3"
  },
  "language_info": {
   "codemirror_mode": {
    "name": "ipython",
    "version": 3
   },
   "file_extension": ".py",
   "mimetype": "text/x-python",
   "name": "python",
   "nbconvert_exporter": "python",
   "pygments_lexer": "ipython3",
   "version": "3.8.3"
  }
 },
 "nbformat": 4,
 "nbformat_minor": 4
}
