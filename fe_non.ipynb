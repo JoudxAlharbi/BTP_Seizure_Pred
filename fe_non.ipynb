{
 "cells": [
  {
   "cell_type": "code",
   "execution_count": null,
   "metadata": {},
   "outputs": [],
   "source": [
    "import pandas as pd\n",
    "from fe import read_data, drop_11, drop_8, trim, write_to_file\n",
    "import warnings\n",
    "warnings.filterwarnings('ignore')"
   ]
  },
  {
   "cell_type": "code",
   "execution_count": null,
   "metadata": {},
   "outputs": [],
   "source": [
    "k = pd.read_csv('main_non.csv')"
   ]
  },
  {
   "cell_type": "code",
   "execution_count": null,
   "metadata": {},
   "outputs": [],
   "source": [
    "chb01 = k.iloc[0:7,:]\n",
    "chb08 = k.iloc[7:12, :]\n",
    "chb11 = k.iloc[12:15, :]\n",
    "chb14 = k.iloc[15:23, :]\n",
    "chb20 = k.iloc[23:31, :]"
   ]
  },
  {
   "cell_type": "code",
   "execution_count": null,
   "metadata": {},
   "outputs": [],
   "source": [
    "patients = [chb01, chb08, chb11, chb14, chb20]\n",
    "files = ['chb01_non', 'chb08_non', 'chb11_non', 'chb14_non', 'chb20_non']\n",
    "\n",
    "for i, patient in enumerate(patients):\n",
    "    for index, row in patient.iterrows():\n",
    "        print(index, row.Patient, row.File)\n",
    "        df, data = read_data(row.Patient, row.File)\n",
    "        if(row.Patient == 'chb01' or row.Patient == 'chb08' ):\n",
    "            drop_8(df)\n",
    "        else:\n",
    "            drop_11(df)\n",
    "        df1, start, end, temp = trim(df, row.Start, row.End)\n",
    "        n = 'w' if index==0 else 'a'\n",
    "        write_to_file('{}.csv'.format(files[i]), n, start, end, temp, df1, data, 0)\n",
    "        "
   ]
  },
  {
   "cell_type": "code",
   "execution_count": null,
   "metadata": {},
   "outputs": [],
   "source": [
    "#non seizure seconds: 4000, 9000, 6500, 12500, 9000\n",
    "ch01_n = pd.read_csv('chb01_non.csv', header=None)\n",
    "ch08_n = pd.read_csv('chb08_non.csv', header=None)\n",
    "ch11_n = pd.read_csv('chb11_non.csv', header=None)\n",
    "ch14_n = pd.read_csv('chb14_non.csv', header=None)\n",
    "ch20_n = pd.read_csv('chb20_non.csv', header=None)\n",
    "\n",
    "ch01_s = pd.read_csv('chb01.csv', header=None)\n",
    "ch08_s = pd.read_csv('chb08.csv', header=None)\n",
    "ch11_s = pd.read_csv('chb11.csv', header=None)\n",
    "ch14_s = pd.read_csv('chb14.csv', header=None)\n",
    "ch20_s = pd.read_csv('chb20.csv', header=None)\n",
    "\n",
    "print(ch01_s.shape, ch08_s.shape, ch11_s.shape, ch14_s.shape, ch20_s.shape)\n",
    "print(ch01_n.shape, ch08_n.shape, ch11_n.shape, ch14_n.shape, ch20_n.shape)"
   ]
  },
  {
   "cell_type": "code",
   "execution_count": null,
   "metadata": {},
   "outputs": [],
   "source": [
    "train = [chb01_combined, chb08_combined, chb11_combined, chb14_combined]\n",
    "t = pd.concat(train, sort = False)\n",
    "t.to_csv('Train_1_8_11_14.csv')"
   ]
  }
 ],
 "metadata": {
  "kernelspec": {
   "display_name": "Python 3",
   "language": "python",
   "name": "python3"
  },
  "language_info": {
   "codemirror_mode": {
    "name": "ipython",
    "version": 3
   },
   "file_extension": ".py",
   "mimetype": "text/x-python",
   "name": "python",
   "nbconvert_exporter": "python",
   "pygments_lexer": "ipython3",
   "version": "3.8.3"
  }
 },
 "nbformat": 4,
 "nbformat_minor": 4
}
